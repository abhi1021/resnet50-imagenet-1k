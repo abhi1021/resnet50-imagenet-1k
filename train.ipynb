{
  "cells": [
    {
      "cell_type": "markdown",
      "metadata": {
        "id": "view-in-github",
        "colab_type": "text"
      },
      "source": [
        "<a href=\"https://colab.research.google.com/github/abhi1021/resnet50-imagenet-1k/blob/main/train.ipynb\" target=\"_parent\"><img src=\"https://colab.research.google.com/assets/colab-badge.svg\" alt=\"Open In Colab\"/></a>"
      ]
    },
    {
      "cell_type": "markdown",
      "metadata": {
        "id": "ujBzMxx8k-jD"
      },
      "source": [
        "# Training ImageNette Model (Google Colab)\n",
        "This notebook trains the ResNet-50 model on ImageNette-160 (10 classes, epochs=3)"
      ]
    },
    {
      "cell_type": "markdown",
      "metadata": {
        "id": "75H8vgErk-jG"
      },
      "source": [
        "## Download ImageNette Dataset"
      ]
    },
    {
      "cell_type": "code",
      "execution_count": 1,
      "metadata": {
        "id": "clYN_9HQk-jH",
        "outputId": "a85cecae-31d7-4ae5-c2bd-fc649fdb3acd",
        "colab": {
          "base_uri": "https://localhost:8080/"
        }
      },
      "outputs": [
        {
          "output_type": "stream",
          "name": "stdout",
          "text": [
            "Cloning into 'resnet50-imagenet-1k'...\n",
            "remote: Enumerating objects: 98, done.\u001b[K\n",
            "remote: Counting objects: 100% (98/98), done.\u001b[K\n",
            "remote: Compressing objects: 100% (67/67), done.\u001b[K\n",
            "remote: Total 98 (delta 47), reused 80 (delta 30), pack-reused 0 (from 0)\u001b[K\n",
            "Receiving objects: 100% (98/98), 380.55 KiB | 1.47 MiB/s, done.\n",
            "Resolving deltas: 100% (47/47), done.\n"
          ]
        }
      ],
      "source": [
        "# Clone the repository\n",
        "!git clone https://github.com/abhi1021/resnet50-imagenet-1k.git"
      ]
    },
    {
      "cell_type": "code",
      "execution_count": 2,
      "metadata": {
        "id": "o-2f69FMk-jI",
        "outputId": "2df06d0a-d39c-4e7d-bc61-786b1b875b85",
        "colab": {
          "base_uri": "https://localhost:8080/"
        }
      },
      "outputs": [
        {
          "output_type": "stream",
          "name": "stdout",
          "text": [
            "/content/resnet50-imagenet-1k\n"
          ]
        }
      ],
      "source": [
        "# Navigate to the repository directory\n",
        "%cd resnet50-imagenet-1k"
      ]
    },
    {
      "cell_type": "code",
      "source": [
        "# Install required dependencies\n",
        "!pip install -q -r requirements.txt\n",
        "print(\"✓ Dependencies installed successfully\")"
      ],
      "metadata": {
        "id": "WggxS0p9l9aV",
        "outputId": "ecbee326-c699-4a78-bd3e-623d2f81aaa7",
        "colab": {
          "base_uri": "https://localhost:8080/"
        }
      },
      "execution_count": 3,
      "outputs": [
        {
          "output_type": "stream",
          "name": "stdout",
          "text": [
            "\u001b[?25l     \u001b[90m━━━━━━━━━━━━━━━━━━━━━━━━━━━━━━━━━━━━━━━━\u001b[0m \u001b[32m0.0/53.4 kB\u001b[0m \u001b[31m?\u001b[0m eta \u001b[36m-:--:--\u001b[0m\r\u001b[2K     \u001b[90m━━━━━━━━━━━━━━━━━━━━━━━━━━━━━━━━━━━━━━━━\u001b[0m \u001b[32m53.4/53.4 kB\u001b[0m \u001b[31m5.2 MB/s\u001b[0m eta \u001b[36m0:00:00\u001b[0m\n",
            "\u001b[?25h  Installing build dependencies ... \u001b[?25l\u001b[?25hdone\n",
            "  Getting requirements to build wheel ... \u001b[?25l\u001b[?25hdone\n",
            "  Preparing metadata (pyproject.toml) ... \u001b[?25l\u001b[?25hdone\n",
            "  Building wheel for plotille (pyproject.toml) ... \u001b[?25l\u001b[?25hdone\n",
            "✓ Dependencies installed successfully\n"
          ]
        }
      ]
    },
    {
      "cell_type": "code",
      "execution_count": 4,
      "metadata": {
        "id": "ct7sWdvwk-jI",
        "outputId": "c3a097d9-d547-484f-aeca-2c61831d4464",
        "colab": {
          "base_uri": "https://localhost:8080/"
        }
      },
      "outputs": [
        {
          "output_type": "stream",
          "name": "stdout",
          "text": [
            "--2025-10-18 13:52:52--  https://s3.amazonaws.com/fast-ai-imageclas/imagenette2-160.tgz\n",
            "Resolving s3.amazonaws.com (s3.amazonaws.com)... 16.15.180.29, 52.216.220.88, 52.216.52.240, ...\n",
            "Connecting to s3.amazonaws.com (s3.amazonaws.com)|16.15.180.29|:443... connected.\n",
            "HTTP request sent, awaiting response... 200 OK\n",
            "Length: 99003388 (94M) [application/x-tar]\n",
            "Saving to: ‘imagenette2-160.tgz’\n",
            "\n",
            "imagenette2-160.tgz 100%[===================>]  94.42M  15.0MB/s    in 8.1s    \n",
            "\n",
            "2025-10-18 13:53:02 (11.6 MB/s) - ‘imagenette2-160.tgz’ saved [99003388/99003388]\n",
            "\n",
            "total 1228\n",
            "drwxrwxr-x  4  501 staff    4096 Feb  6  2021 .\n",
            "drwxr-xr-x  5 root root     4096 Oct 18 13:53 ..\n",
            "-rw-r--r--  1  501 staff    6148 Feb  6  2021 .DS_Store\n",
            "-rw-r--r--  1  501 staff 1230799 Feb  6  2021 noisy_imagenette.csv\n",
            "drwxr-xr-x 12  501 staff    4096 Oct 18 13:53 train\n",
            "drwxr-xr-x 12  501 staff    4096 Nov 30  2019 val\n"
          ]
        }
      ],
      "source": [
        "# Download and extract ImageNette dataset\n",
        "!wget https://s3.amazonaws.com/fast-ai-imageclas/imagenette2-160.tgz\n",
        "!tar -xzf imagenette2-160.tgz\n",
        "!ls -la imagenette2-160"
      ]
    },
    {
      "cell_type": "markdown",
      "metadata": {
        "id": "YSzbet0Dk-jI"
      },
      "source": [
        "## Verify Dataset Structure"
      ]
    },
    {
      "cell_type": "code",
      "execution_count": 5,
      "metadata": {
        "id": "pYZYNA-sk-jJ",
        "colab": {
          "base_uri": "https://localhost:8080/"
        },
        "outputId": "861684fd-fcc5-4075-8546-1c50a9b690dc"
      },
      "outputs": [
        {
          "output_type": "stream",
          "name": "stdout",
          "text": [
            "total 388\n",
            "drwxr-xr-x 12 501 staff  4096 Oct 18 13:53 .\n",
            "drwxrwxr-x  4 501 staff  4096 Feb  6  2021 ..\n",
            "-rw-r--r--  1 501 staff  6148 Feb  5  2021 .DS_Store\n",
            "drwxr-xr-x  2 501 staff 40960 Oct 18 13:53 n01440764\n",
            "drwxr-xr-x  2 501 staff 36864 Oct 18 13:53 n02102040\n",
            "drwxr-xr-x  2 501 staff 45056 Nov 30  2019 n02979186\n",
            "drwxr-xr-x  2 501 staff 36864 Oct 18 13:53 n03000684\n",
            "drwxr-xr-x  2 501 staff 36864 Oct 18 13:53 n03028079\n",
            "drwxr-xr-x  2 501 staff 36864 Oct 18 13:53 n03394916\n",
            "drwxr-xr-x  2 501 staff 36864 Oct 18 13:53 n03417042\n",
            "drwxr-xr-x  2 501 staff 36864 Oct 18 13:53 n03425413\n",
            "drwxr-xr-x  2 501 staff 36864 Oct 18 13:53 n03445777\n",
            "drwxr-xr-x  2 501 staff 36864 Oct 18 13:53 n03888257\n",
            "\\n\n",
            "total 208\n",
            "drwxr-xr-x 12 501 staff  4096 Nov 30  2019 .\n",
            "drwxrwxr-x  4 501 staff  4096 Feb  6  2021 ..\n",
            "drwxr-xr-x  2 501 staff 20480 Oct 18 13:53 n01440764\n",
            "drwxr-xr-x  2 501 staff 20480 Oct 18 13:53 n02102040\n",
            "drwxr-xr-x  2 501 staff 20480 Nov 30  2019 n02979186\n",
            "drwxr-xr-x  2 501 staff 20480 Oct 18 13:53 n03000684\n",
            "drwxr-xr-x  2 501 staff 20480 Oct 18 13:53 n03028079\n",
            "drwxr-xr-x  2 501 staff 20480 Oct 18 13:53 n03394916\n",
            "drwxr-xr-x  2 501 staff 20480 Oct 18 13:53 n03417042\n",
            "drwxr-xr-x  2 501 staff 20480 Oct 18 13:53 n03425413\n",
            "drwxr-xr-x  2 501 staff 20480 Oct 18 13:53 n03445777\n",
            "drwxr-xr-x  2 501 staff 20480 Oct 18 13:53 n03888257\n"
          ]
        }
      ],
      "source": [
        "# Check dataset structure (should have train and val folders)\n",
        "!ls -la imagenette2-160/train | head -15\n",
        "!echo \"\\n\"\n",
        "!ls -la imagenette2-160/val | head -15"
      ]
    },
    {
      "cell_type": "markdown",
      "metadata": {
        "id": "WbbEM0Ctk-jJ"
      },
      "source": [
        "## Import Libraries and Check GPU"
      ]
    },
    {
      "cell_type": "code",
      "execution_count": 6,
      "metadata": {
        "id": "VK71SnIJk-jJ",
        "outputId": "0e2b6a0f-b55f-4ab1-eab6-0e6f8ebbf787",
        "colab": {
          "base_uri": "https://localhost:8080/"
        }
      },
      "outputs": [
        {
          "output_type": "stream",
          "name": "stdout",
          "text": [
            "Using device: cuda\n",
            "GPU: Tesla T4\n",
            "Memory Allocated: 0.00 MB\n",
            "Memory Cached: 0.00 MB\n"
          ]
        }
      ],
      "source": [
        "import torch\n",
        "import sys\n",
        "from train import ImageClassificationTrainer\n",
        "\n",
        "# Check if CUDA is available\n",
        "device = torch.device(\"cuda\" if torch.cuda.is_available() else \"cpu\")\n",
        "print(f\"Using device: {device}\")\n",
        "if device.type == 'cuda':\n",
        "    print(f\"GPU: {torch.cuda.get_device_name(0)}\")\n",
        "    print(f\"Memory Allocated: {torch.cuda.memory_allocated(0) / 1024**2:.2f} MB\")\n",
        "    print(f\"Memory Cached: {torch.cuda.memory_reserved(0) / 1024**2:.2f} MB\")\n",
        "else:\n",
        "    print(\"WARNING: Running on CPU. Training will be slower.\")\n",
        "    print(\"In Colab, go to Runtime > Change runtime type > Hardware accelerator > GPU\")"
      ]
    },
    {
      "cell_type": "markdown",
      "metadata": {
        "id": "lodXJFiVk-jK"
      },
      "source": [
        "## Initialize and Train ImageNette Model with ResNet-50"
      ]
    },
    {
      "cell_type": "code",
      "execution_count": 7,
      "metadata": {
        "id": "_conI2tpk-jK",
        "outputId": "76c53cc7-1500-467b-f379-e3a41a627550",
        "colab": {
          "base_uri": "https://localhost:8080/"
        }
      },
      "outputs": [
        {
          "output_type": "stream",
          "name": "stdout",
          "text": [
            "✓ Using NVIDIA GPU: Tesla T4\n",
            "\n",
            "Loading ImageNet dataset from: imagenette2-160\n",
            "ImageNet dataset loaded:\n",
            "  Training samples: 9,469\n",
            "  Validation samples: 3,925\n",
            "  Number of classes: 10\n",
            "Detected 10 classes in dataset\n",
            "Starting ImageNette Model Training with ResNet-50\n",
            "======================================================================\n",
            "Configuration:\n",
            "  - Model: ResNet-50 (25.6M parameters)\n",
            "  - Dataset: ImageNette (10 classes)\n",
            "  - Image Size: 160x160 (resized to 224x224)\n",
            "  - Batch Size: 128\n",
            "  - Epochs: 3\n",
            "  - Optimizer: SGD (momentum=0.9, weight_decay=1e-3)\n",
            "  - Learning Rate: Warmup (0.01→0.1) + Cosine annealing\n",
            "  - MixUp: Enabled (alpha=0.2)\n",
            "  - Label Smoothing: 0.1\n",
            "  - Mixed Precision: Enabled\n",
            "  - Gradient Clipping: 1.0\n",
            "======================================================================\n"
          ]
        }
      ],
      "source": [
        "# Create trainer with specified settings\n",
        "# Configuration:\n",
        "#   - Model: ResNet-50 (25.6M parameters)\n",
        "#   - Dataset: ImageNette (10 classes, 160x160 images)\n",
        "#   - Epochs: 3\n",
        "#   - Batch Size: 128 (adjusted for Colab GPU)\n",
        "#   - Learning Rate: Warmup (0.01→0.1) + Cosine annealing\n",
        "#   - MixUp augmentation: Enabled (alpha=0.2)\n",
        "#   - Label smoothing: 0.1\n",
        "#   - Mixed precision: Enabled\n",
        "#   - Gradient clipping: 1.0\n",
        "trainer = ImageClassificationTrainer(\n",
        "    model_name='resnet50',\n",
        "    dataset='imagenet',\n",
        "    data_dir='imagenette2-160',\n",
        "    epochs=3,\n",
        "    batch_size=128,\n",
        "    num_workers=2\n",
        ")\n",
        "\n",
        "print(\"Starting ImageNette Model Training with ResNet-50\")\n",
        "print(\"=\"*70)\n",
        "print(f\"Configuration:\")\n",
        "print(f\"  - Model: ResNet-50 (25.6M parameters)\")\n",
        "print(f\"  - Dataset: ImageNette (10 classes)\")\n",
        "print(f\"  - Image Size: 160x160 (resized to 224x224)\")\n",
        "print(f\"  - Batch Size: 128\")\n",
        "print(f\"  - Epochs: 3\")\n",
        "print(f\"  - Optimizer: SGD (momentum=0.9, weight_decay=1e-3)\")\n",
        "print(f\"  - Learning Rate: Warmup (0.01→0.1) + Cosine annealing\")\n",
        "print(f\"  - MixUp: Enabled (alpha=0.2)\")\n",
        "print(f\"  - Label Smoothing: 0.1\")\n",
        "print(f\"  - Mixed Precision: Enabled\")\n",
        "print(f\"  - Gradient Clipping: 1.0\")\n",
        "print(\"=\"*70)"
      ]
    },
    {
      "cell_type": "code",
      "execution_count": 8,
      "metadata": {
        "id": "xW4kyw-5k-jK",
        "outputId": "45fcf1d3-e695-4183-cddb-38a6fe268aa8",
        "colab": {
          "base_uri": "https://localhost:8080/"
        }
      },
      "outputs": [
        {
          "output_type": "stream",
          "name": "stdout",
          "text": [
            "\n",
            "Training resnet50 for 3 epochs on ImageNet (10 classes)\n",
            "======================================================================\n",
            "\n",
            "======================================================================\n",
            "Model Architecture Summary\n",
            "======================================================================\n",
            "Device: cuda\n",
            "Model: resnet50\n",
            "Number of classes: 10\n",
            "Mixed Precision: True\n",
            "MixUp: True (alpha=0.2)\n",
            "Label Smoothing: 0.1\n",
            "\n",
            "Model Summary:\n",
            "======================================================================\n",
            "\n"
          ]
        },
        {
          "output_type": "stream",
          "name": "stderr",
          "text": [
            "Epoch 1 Loss=2.3117 Acc=10.46% LR=0.027757: 100%|██████████| 74/74 [00:51<00:00,  1.43it/s]\n"
          ]
        },
        {
          "output_type": "stream",
          "name": "stdout",
          "text": [
            "\n",
            "Test set: Average loss: 2.4949, Accuracy: 391/3925 (9.96%)\n",
            "\n",
            "*** New best model! Test Accuracy: 9.96% ***\n",
            "✓ Checkpoint saved: best_model.pth\n",
            "Best Test Accuracy so far: 9.96%\n",
            "\n"
          ]
        },
        {
          "output_type": "stream",
          "name": "stderr",
          "text": [
            "Epoch 2 Loss=2.3499 Acc=11.65% LR=0.045757: 100%|██████████| 74/74 [00:49<00:00,  1.48it/s]\n"
          ]
        },
        {
          "output_type": "stream",
          "name": "stdout",
          "text": [
            "\n",
            "Test set: Average loss: 2.3777, Accuracy: 583/3925 (14.85%)\n",
            "\n",
            "*** New best model! Test Accuracy: 14.85% ***\n",
            "✓ Checkpoint saved: best_model.pth\n",
            "Best Test Accuracy so far: 14.85%\n",
            "\n"
          ]
        },
        {
          "output_type": "stream",
          "name": "stderr",
          "text": [
            "Epoch 3 Loss=2.3689 Acc=16.48% LR=0.063757: 100%|██████████| 74/74 [00:49<00:00,  1.50it/s]\n"
          ]
        },
        {
          "output_type": "stream",
          "name": "stdout",
          "text": [
            "\n",
            "Test set: Average loss: 2.3256, Accuracy: 739/3925 (18.83%)\n",
            "\n",
            "*** New best model! Test Accuracy: 18.83% ***\n",
            "✓ Checkpoint saved: best_model.pth\n",
            "Best Test Accuracy so far: 18.83%\n",
            "\n",
            "\n",
            "📦 Saving final model...\n",
            "✓ Checkpoint saved: final_model.pth\n",
            "\n",
            "Training completed. Best test accuracy: 18.83%\n",
            "\n",
            "================================================================================\n",
            "TRAINING AND TESTING LOSS\n",
            "================================================================================\n",
            "   (Y)     ^\n",
            "2.74435286 |\n",
            "2.60713522 | ⠀⠀⠀⠀⠀⠀⠀⠀⠀⠀⠀⠀⠀⠀⠀⠀⠀⠀⠀⠀⠀⠀⠀⠀⠀⠀⠀⠀⠀⠀⠀⠀⠀⠀⠀⠀⠀⠀⠀⠀⠀⠀⠀⠀⠀⠀⠀⠀⠀⠀⠀⠀⠀⠀⠀⠀⠀⠀⠀⠀⠀⠀⠀⠀⠀⠀⠀⠀⠀⠀\n",
            "2.46991757 | ⠤⠤⠤⠤⢄⣀⣀⣀⣀⣀⣀⣀⣀⡀⠀⠀⠀⠀⠀⠀⠀⠀⠀⠀⠀⠀⠀⠀⠀⠀⠀⠀⠀⠀⠀⠀⠀⠀⠀⠀⠀⠀⠀⠀⠀⠀⠀⠀⠀⠀⠀⠀⠀⠀⠀⠀⠀⠀⠀⠀⠀⠀⠀⠀⠀⠀⠀⠀⠀⠀\n",
            "2.33269993 | ⠤⠤⠤⠤⠤⠤⠤⠤⠤⠤⠤⠤⠤⠬⠭⠭⠭⠭⠭⠭⠭⠭⠶⠶⠶⠶⠶⠶⠶⠶⠶⠤⠤⠤⠤⠤⠤⠤⠤⠤⠤⠤⠤⠤⠤⠤⠤⠤⠤⠤⠤⠤⠤⣀⣀⣀⣀⣀⣀⣀⣀⣀⣀⣀⣀⣀⣀⣀⣀⣀\n",
            "2.19548229 | ⠀⠀⠀⠀⠀⠀⠀⠀⠀⠀⠀⠀⠀⠀⠀⠀⠀⠀⠀⠀⠀⠀⠀⠀⠀⠀⠀⠀⠀⠀⠀⠀⠀⠀⠀⠀⠀⠀⠀⠀⠀⠀⠀⠀⠀⠀⠀⠀⠀⠀⠀⠀⠀⠀⠀⠀⠀⠀⠀⠀⠀⠀⠀⠀⠀⠀⠀⠀⠀⠀\n",
            "2.05826464 | ⠀⠀⠀⠀⠀⠀⠀⠀⠀⠀⠀⠀⠀⠀⠀⠀⠀⠀⠀⠀⠀⠀⠀⠀⠀⠀⠀⠀⠀⠀⠀⠀⠀⠀⠀⠀⠀⠀⠀⠀⠀⠀⠀⠀⠀⠀⠀⠀⠀⠀⠀⠀⠀⠀⠀⠀⠀⠀⠀⠀⠀⠀⠀⠀⠀⠀⠀⠀⠀⠀\n",
            "1.92104700 | ⠀⠀⠀⠀⠀⠀⠀⠀⠀⠀⠀⠀⠀⠀⠀⠀⠀⠀⠀⠀⠀⠀⠀⠀⠀⠀⠀⠀⠀⠀⠀⠀⠀⠀⠀⠀⠀⠀⠀⠀⠀⠀⠀⠀⠀⠀⠀⠀⠀⠀⠀⠀⠀⠀⠀⠀⠀⠀⠀⠀⠀⠀⠀⠀⠀⠀⠀⠀⠀⠀\n",
            "1.78382936 | ⠀⠀⠀⠀⠀⠀⠀⠀⠀⠀⠀⠀⠀⠀⠀⠀⠀⠀⠀⠀⠀⠀⠀⠀⠀⠀⠀⠀⠀⠀⠀⠀⠀⠀⠀⠀⠀⠀⠀⠀⠀⠀⠀⠀⠀⠀⠀⠀⠀⠀⠀⠀⠀⠀⠀⠀⠀⠀⠀⠀⠀⠀⠀⠀⠀⠀⠀⠀⠀⠀\n",
            "1.64661172 | ⠀⠀⠀⠀⠀⠀⠀⠀⠀⠀⠀⠀⠀⠀⠀⠀⠀⠀⠀⠀⠀⠀⠀⠀⠀⠀⠀⠀⠀⠀⠀⠀⠀⠀⠀⠀⠀⠀⠀⠀⠀⠀⠀⠀⠀⠀⠀⠀⠀⠀⠀⠀⠀⠀⠀⠀⠀⠀⠀⠀⠀⠀⠀⠀⠀⠀⠀⠀⠀⠀\n",
            "1.50939407 | ⠀⠀⠀⠀⠀⠀⠀⠀⠀⠀⠀⠀⠀⠀⠀⠀⠀⠀⠀⠀⠀⠀⠀⠀⠀⠀⠀⠀⠀⠀⠀⠀⠀⠀⠀⠀⠀⠀⠀⠀⠀⠀⠀⠀⠀⠀⠀⠀⠀⠀⠀⠀⠀⠀⠀⠀⠀⠀⠀⠀⠀⠀⠀⠀⠀⠀⠀⠀⠀⠀\n",
            "1.37217643 | ⠀⠀⠀⠀⠀⠀⠀⠀⠀⠀⠀⠀⠀⠀⠀⠀⠀⠀⠀⠀⠀⠀⠀⠀⠀⠀⠀⠀⠀⠀⠀⠀⠀⠀⠀⠀⠀⠀⠀⠀⠀⠀⠀⠀⠀⠀⠀⠀⠀⠀⠀⠀⠀⠀⠀⠀⠀⠀⠀⠀⠀⠀⠀⠀⠀⠀⠀⠀⠀⠀\n",
            "1.23495879 | ⠀⠀⠀⠀⠀⠀⠀⠀⠀⠀⠀⠀⠀⠀⠀⠀⠀⠀⠀⠀⠀⠀⠀⠀⠀⠀⠀⠀⠀⠀⠀⠀⠀⠀⠀⠀⠀⠀⠀⠀⠀⠀⠀⠀⠀⠀⠀⠀⠀⠀⠀⠀⠀⠀⠀⠀⠀⠀⠀⠀⠀⠀⠀⠀⠀⠀⠀⠀⠀⠀\n",
            "1.09774114 | ⠀⠀⠀⠀⠀⠀⠀⠀⠀⠀⠀⠀⠀⠀⠀⠀⠀⠀⠀⠀⠀⠀⠀⠀⠀⠀⠀⠀⠀⠀⠀⠀⠀⠀⠀⠀⠀⠀⠀⠀⠀⠀⠀⠀⠀⠀⠀⠀⠀⠀⠀⠀⠀⠀⠀⠀⠀⠀⠀⠀⠀⠀⠀⠀⠀⠀⠀⠀⠀⠀\n",
            "0.96052350 | ⠀⠀⠀⠀⠀⠀⠀⠀⠀⠀⠀⠀⠀⠀⠀⠀⠀⠀⠀⠀⠀⠀⠀⠀⠀⠀⠀⠀⠀⠀⠀⠀⠀⠀⠀⠀⠀⠀⠀⠀⠀⠀⠀⠀⠀⠀⠀⠀⠀⠀⠀⠀⠀⠀⠀⠀⠀⠀⠀⠀⠀⠀⠀⠀⠀⠀⠀⠀⠀⠀\n",
            "0.82330586 | ⠀⠀⠀⠀⠀⠀⠀⠀⠀⠀⠀⠀⠀⠀⠀⠀⠀⠀⠀⠀⠀⠀⠀⠀⠀⠀⠀⠀⠀⠀⠀⠀⠀⠀⠀⠀⠀⠀⠀⠀⠀⠀⠀⠀⠀⠀⠀⠀⠀⠀⠀⠀⠀⠀⠀⠀⠀⠀⠀⠀⠀⠀⠀⠀⠀⠀⠀⠀⠀⠀\n",
            "0.68608821 | ⠀⠀⠀⠀⠀⠀⠀⠀⠀⠀⠀⠀⠀⠀⠀⠀⠀⠀⠀⠀⠀⠀⠀⠀⠀⠀⠀⠀⠀⠀⠀⠀⠀⠀⠀⠀⠀⠀⠀⠀⠀⠀⠀⠀⠀⠀⠀⠀⠀⠀⠀⠀⠀⠀⠀⠀⠀⠀⠀⠀⠀⠀⠀⠀⠀⠀⠀⠀⠀⠀\n",
            "0.54887057 | ⠀⠀⠀⠀⠀⠀⠀⠀⠀⠀⠀⠀⠀⠀⠀⠀⠀⠀⠀⠀⠀⠀⠀⠀⠀⠀⠀⠀⠀⠀⠀⠀⠀⠀⠀⠀⠀⠀⠀⠀⠀⠀⠀⠀⠀⠀⠀⠀⠀⠀⠀⠀⠀⠀⠀⠀⠀⠀⠀⠀⠀⠀⠀⠀⠀⠀⠀⠀⠀⠀\n",
            "0.41165293 | ⠀⠀⠀⠀⠀⠀⠀⠀⠀⠀⠀⠀⠀⠀⠀⠀⠀⠀⠀⠀⠀⠀⠀⠀⠀⠀⠀⠀⠀⠀⠀⠀⠀⠀⠀⠀⠀⠀⠀⠀⠀⠀⠀⠀⠀⠀⠀⠀⠀⠀⠀⠀⠀⠀⠀⠀⠀⠀⠀⠀⠀⠀⠀⠀⠀⠀⠀⠀⠀⠀\n",
            "0.27443529 | ⠀⠀⠀⠀⠀⠀⠀⠀⠀⠀⠀⠀⠀⠀⠀⠀⠀⠀⠀⠀⠀⠀⠀⠀⠀⠀⠀⠀⠀⠀⠀⠀⠀⠀⠀⠀⠀⠀⠀⠀⠀⠀⠀⠀⠀⠀⠀⠀⠀⠀⠀⠀⠀⠀⠀⠀⠀⠀⠀⠀⠀⠀⠀⠀⠀⠀⠀⠀⠀⠀\n",
            "0.13721764 | ⠀⠀⠀⠀⠀⠀⠀⠀⠀⠀⠀⠀⠀⠀⠀⠀⠀⠀⠀⠀⠀⠀⠀⠀⠀⠀⠀⠀⠀⠀⠀⠀⠀⠀⠀⠀⠀⠀⠀⠀⠀⠀⠀⠀⠀⠀⠀⠀⠀⠀⠀⠀⠀⠀⠀⠀⠀⠀⠀⠀⠀⠀⠀⠀⠀⠀⠀⠀⠀⠀\n",
            "         0 | ⣀⣀⣀⣀⣀⣀⣀⣀⣀⣀⣀⣀⣀⣀⣀⣀⣀⣀⣀⣀⣀⣀⣀⣀⣀⣀⣀⣀⣀⣀⣀⣀⣀⣀⣀⣀⣀⣀⣀⣀⣀⣀⣀⣀⣀⣀⣀⣀⣀⣀⣀⣀⣀⣀⣀⣀⣀⣀⣀⣀⣀⣀⣀⣀⣀⣀⣀⣀⣀⣀\n",
            "-----------|-|---------|---------|---------|---------|---------|---------|---------|-> (X)\n",
            "           | 1         1.2857143 1.5714286 1.8571429 2.1428571 2.4285714 2.7142857 3        \n",
            "\n",
            "Legend:\n",
            "-------\n",
            "⠤⠤ Training Loss\n",
            "⠤⠤ Testing Loss\n",
            "\n",
            "================================================================================\n",
            "TRAINING AND TESTING ACCURACY\n",
            "================================================================================\n",
            "   (Y)     ^\n",
            "       100 |\n",
            "95.4731847 | ⠀⠀⠀⠀⠀⠀⠀⠀⠀⠀⠀⠀⠀⠀⠀⠀⠀⠀⠀⠀⠀⠀⠀⠀⠀⠀⠀⠀⠀⠀⠀⠀⠀⠀⠀⠀⠀⠀⠀⠀⠀⠀⠀⠀⠀⠀⠀⠀⠀⠀⠀⠀⠀⠀⠀⠀⠀⠀⠀⠀⠀⠀⠀⠀⠀⠀⠀⠀⠀⠀\n",
            "90.9463694 | ⠀⠀⠀⠀⠀⠀⠀⠀⠀⠀⠀⠀⠀⠀⠀⠀⠀⠀⠀⠀⠀⠀⠀⠀⠀⠀⠀⠀⠀⠀⠀⠀⠀⠀⠀⠀⠀⠀⠀⠀⠀⠀⠀⠀⠀⠀⠀⠀⠀⠀⠀⠀⠀⠀⠀⠀⠀⠀⠀⠀⠀⠀⠀⠀⠀⠀⠀⠀⠀⠀\n",
            "86.4195541 | ⠀⠀⠀⠀⠀⠀⠀⠀⠀⠀⠀⠀⠀⠀⠀⠀⠀⠀⠀⠀⠀⠀⠀⠀⠀⠀⠀⠀⠀⠀⠀⠀⠀⠀⠀⠀⠀⠀⠀⠀⠀⠀⠀⠀⠀⠀⠀⠀⠀⠀⠀⠀⠀⠀⠀⠀⠀⠀⠀⠀⠀⠀⠀⠀⠀⠀⠀⠀⠀⠀\n",
            "81.8927389 | ⠀⠀⠀⠀⠀⠀⠀⠀⠀⠀⠀⠀⠀⠀⠀⠀⠀⠀⠀⠀⠀⠀⠀⠀⠀⠀⠀⠀⠀⠀⠀⠀⠀⠀⠀⠀⠀⠀⠀⠀⠀⠀⠀⠀⠀⠀⠀⠀⠀⠀⠀⠀⠀⠀⠀⠀⠀⠀⠀⠀⠀⠀⠀⠀⠀⠀⠀⠀⠀⠀\n",
            "77.3659236 | ⠀⠀⠀⠀⠀⠀⠀⠀⠀⠀⠀⠀⠀⠀⠀⠀⠀⠀⠀⠀⠀⠀⠀⠀⠀⠀⠀⠀⠀⠀⠀⠀⠀⠀⠀⠀⠀⠀⠀⠀⠀⠀⠀⠀⠀⠀⠀⠀⠀⠀⠀⠀⠀⠀⠀⠀⠀⠀⠀⠀⠀⠀⠀⠀⠀⠀⠀⠀⠀⠀\n",
            "72.8391083 | ⠀⠀⠀⠀⠀⠀⠀⠀⠀⠀⠀⠀⠀⠀⠀⠀⠀⠀⠀⠀⠀⠀⠀⠀⠀⠀⠀⠀⠀⠀⠀⠀⠀⠀⠀⠀⠀⠀⠀⠀⠀⠀⠀⠀⠀⠀⠀⠀⠀⠀⠀⠀⠀⠀⠀⠀⠀⠀⠀⠀⠀⠀⠀⠀⠀⠀⠀⠀⠀⠀\n",
            "68.3122930 | ⠀⠀⠀⠀⠀⠀⠀⠀⠀⠀⠀⠀⠀⠀⠀⠀⠀⠀⠀⠀⠀⠀⠀⠀⠀⠀⠀⠀⠀⠀⠀⠀⠀⠀⠀⠀⠀⠀⠀⠀⠀⠀⠀⠀⠀⠀⠀⠀⠀⠀⠀⠀⠀⠀⠀⠀⠀⠀⠀⠀⠀⠀⠀⠀⠀⠀⠀⠀⠀⠀\n",
            "63.7854777 | ⠀⠀⠀⠀⠀⠀⠀⠀⠀⠀⠀⠀⠀⠀⠀⠀⠀⠀⠀⠀⠀⠀⠀⠀⠀⠀⠀⠀⠀⠀⠀⠀⠀⠀⠀⠀⠀⠀⠀⠀⠀⠀⠀⠀⠀⠀⠀⠀⠀⠀⠀⠀⠀⠀⠀⠀⠀⠀⠀⠀⠀⠀⠀⠀⠀⠀⠀⠀⠀⠀\n",
            "59.2586624 | ⠀⠀⠀⠀⠀⠀⠀⠀⠀⠀⠀⠀⠀⠀⠀⠀⠀⠀⠀⠀⠀⠀⠀⠀⠀⠀⠀⠀⠀⠀⠀⠀⠀⠀⠀⠀⠀⠀⠀⠀⠀⠀⠀⠀⠀⠀⠀⠀⠀⠀⠀⠀⠀⠀⠀⠀⠀⠀⠀⠀⠀⠀⠀⠀⠀⠀⠀⠀⠀⠀\n",
            "54.7318471 | ⠀⠀⠀⠀⠀⠀⠀⠀⠀⠀⠀⠀⠀⠀⠀⠀⠀⠀⠀⠀⠀⠀⠀⠀⠀⠀⠀⠀⠀⠀⠀⠀⠀⠀⠀⠀⠀⠀⠀⠀⠀⠀⠀⠀⠀⠀⠀⠀⠀⠀⠀⠀⠀⠀⠀⠀⠀⠀⠀⠀⠀⠀⠀⠀⠀⠀⠀⠀⠀⠀\n",
            "50.2050318 | ⠀⠀⠀⠀⠀⠀⠀⠀⠀⠀⠀⠀⠀⠀⠀⠀⠀⠀⠀⠀⠀⠀⠀⠀⠀⠀⠀⠀⠀⠀⠀⠀⠀⠀⠀⠀⠀⠀⠀⠀⠀⠀⠀⠀⠀⠀⠀⠀⠀⠀⠀⠀⠀⠀⠀⠀⠀⠀⠀⠀⠀⠀⠀⠀⠀⠀⠀⠀⠀⠀\n",
            "45.6782166 | ⠀⠀⠀⠀⠀⠀⠀⠀⠀⠀⠀⠀⠀⠀⠀⠀⠀⠀⠀⠀⠀⠀⠀⠀⠀⠀⠀⠀⠀⠀⠀⠀⠀⠀⠀⠀⠀⠀⠀⠀⠀⠀⠀⠀⠀⠀⠀⠀⠀⠀⠀⠀⠀⠀⠀⠀⠀⠀⠀⠀⠀⠀⠀⠀⠀⠀⠀⠀⠀⠀\n",
            "41.1514013 | ⠀⠀⠀⠀⠀⠀⠀⠀⠀⠀⠀⠀⠀⠀⠀⠀⠀⠀⠀⠀⠀⠀⠀⠀⠀⠀⠀⠀⠀⠀⠀⠀⠀⠀⠀⠀⠀⠀⠀⠀⠀⠀⠀⠀⠀⠀⠀⠀⠀⠀⠀⠀⠀⠀⠀⠀⠀⠀⠀⠀⠀⠀⠀⠀⠀⠀⠀⠀⠀⠀\n",
            "36.6245860 | ⠀⠀⠀⠀⠀⠀⠀⠀⠀⠀⠀⠀⠀⠀⠀⠀⠀⠀⠀⠀⠀⠀⠀⠀⠀⠀⠀⠀⠀⠀⠀⠀⠀⠀⠀⠀⠀⠀⠀⠀⠀⠀⠀⠀⠀⠀⠀⠀⠀⠀⠀⠀⠀⠀⠀⠀⠀⠀⠀⠀⠀⠀⠀⠀⠀⠀⠀⠀⠀⠀\n",
            "32.0977707 | ⠀⠀⠀⠀⠀⠀⠀⠀⠀⠀⠀⠀⠀⠀⠀⠀⠀⠀⠀⠀⠀⠀⠀⠀⠀⠀⠀⠀⠀⠀⠀⠀⠀⠀⠀⠀⠀⠀⠀⠀⠀⠀⠀⠀⠀⠀⠀⠀⠀⠀⠀⠀⠀⠀⠀⠀⠀⠀⠀⠀⠀⠀⠀⠀⠀⠀⠀⠀⠀⠀\n",
            "27.5709554 | ⠀⠀⠀⠀⠀⠀⠀⠀⠀⠀⠀⠀⠀⠀⠀⠀⠀⠀⠀⠀⠀⠀⠀⠀⠀⠀⠀⠀⠀⠀⠀⠀⠀⠀⠀⠀⠀⠀⠀⠀⠀⠀⠀⠀⠀⠀⠀⠀⠀⠀⠀⠀⠀⠀⠀⠀⠀⠀⠀⠀⠀⠀⠀⠀⠀⠀⠀⠀⠀⠀\n",
            "23.0441401 | ⠀⠀⠀⠀⠀⠀⠀⠀⠀⠀⠀⠀⠀⠀⠀⠀⠀⠀⠀⠀⠀⠀⠀⠀⠀⠀⠀⠀⠀⠀⠀⠀⠀⠀⠀⠀⠀⠀⠀⠀⠀⠀⠀⠀⠀⠀⠀⠀⠀⠀⠀⠀⠀⠀⠀⠀⠀⠀⠀⠀⠀⠀⠀⠀⠀⠀⠀⠀⠀⠀\n",
            "18.5173248 | ⠀⠀⠀⠀⠀⠀⠀⠀⠀⠀⠀⠀⠀⠀⠀⠀⠀⠀⠀⠀⠀⠀⠀⠀⠀⠀⠀⠀⠀⠀⠀⠀⠀⠀⠀⠀⠀⠀⠀⠀⠀⠀⠀⠀⠀⠀⠀⠀⠀⠀⠀⠀⠀⠀⠀⠀⠀⠀⠀⠀⠀⠀⠀⠀⢀⣀⣀⣀⣀⣀\n",
            "13.9905096 | ⠀⠀⠀⠀⠀⠀⠀⠀⠀⠀⠀⠀⠀⠀⠀⠀⠀⠀⠀⠀⠀⠀⠀⠀⢀⣀⣀⣀⣀⣀⣀⣀⠤⠤⠤⠤⠤⠤⠤⠤⠤⠒⠒⠒⠒⠒⠒⠒⢒⣒⣒⣒⣊⣉⣉⣉⣉⠭⠭⠭⠭⠭⠭⠭⠥⠤⠒⠒⠒⠒\n",
            "9.46369427 | ⣤⣤⣤⣤⠤⠤⠤⠤⠤⠤⠴⠶⠶⠶⠶⠶⠶⠶⠛⠛⠛⠛⠛⠛⠓⠒⠒⠒⠒⠒⠒⠒⠒⠒⠒⠒⠒⠒⠒⠊⠉⠉⠉⠉⠉⠉⠉⠉⠁⠀⠀⠀⠀⠀⠀⠀⠀⠀⠀⠀⠀⠀⠀⠀⠀⠀⠀⠀⠀⠀\n",
            "-----------|-|---------|---------|---------|---------|---------|---------|---------|-> (X)\n",
            "           | 1         1.2857143 1.5714286 1.8571429 2.1428571 2.4285714 2.7142857 3        \n",
            "\n",
            "Legend:\n",
            "-------\n",
            "⠤⠤ Training Accuracy\n",
            "⠤⠤ Testing Accuracy\n",
            "================================================================================\n",
            "\n",
            "Metrics plot saved as './checkpoints/training_curves.png'\n",
            "\n"
          ]
        }
      ],
      "source": [
        "# Run training\n",
        "final_accuracy = trainer.run()"
      ]
    },
    {
      "cell_type": "markdown",
      "metadata": {
        "id": "0JbZv_Wak-jK"
      },
      "source": [
        "## Training Summary"
      ]
    },
    {
      "cell_type": "code",
      "execution_count": 9,
      "metadata": {
        "id": "GB9sNotzk-jK",
        "outputId": "7ab73cbe-22f5-419c-e9cf-611f1464f280",
        "colab": {
          "base_uri": "https://localhost:8080/"
        }
      },
      "outputs": [
        {
          "output_type": "stream",
          "name": "stdout",
          "text": [
            "\n",
            "======================================================================\n",
            "TRAINING COMPLETED\n",
            "======================================================================\n",
            "Model: ResNet-50\n",
            "Dataset: ImageNette (10 classes)\n",
            "Final Best Test Accuracy: 18.83%\n",
            "======================================================================\n",
            "\n",
            "Checkpoints saved in ./checkpoints/\n",
            "  - best_model.pth (highest test accuracy)\n",
            "  - final_model.pth (final epoch)\n",
            "  - training_curves.png (visualization)\n",
            "  - metrics.json (complete training history)\n"
          ]
        }
      ],
      "source": [
        "print(\"\\n\" + \"=\"*70)\n",
        "print(\"TRAINING COMPLETED\")\n",
        "print(\"=\"*70)\n",
        "print(f\"Model: ResNet-50\")\n",
        "print(f\"Dataset: ImageNette (10 classes)\")\n",
        "print(f\"Final Best Test Accuracy: {final_accuracy:.2f}%\")\n",
        "print(\"=\"*70)\n",
        "print(\"\\nCheckpoints saved in ./checkpoints/\")\n",
        "print(\"  - best_model.pth (highest test accuracy)\")\n",
        "print(\"  - final_model.pth (final epoch)\")\n",
        "print(\"  - training_curves.png (visualization)\")\n",
        "print(\"  - metrics.json (complete training history)\")"
      ]
    }
  ],
  "metadata": {
    "kernelspec": {
      "display_name": "Python 3",
      "language": "python",
      "name": "python3"
    },
    "language_info": {
      "codemirror_mode": {
        "name": "ipython",
        "version": 3
      },
      "file_extension": ".py",
      "mimetype": "text/x-python",
      "name": "python",
      "nbconvert_exporter": "python",
      "pygments_lexer": "ipython3",
      "version": "3.8.0"
    },
    "accelerator": "GPU",
    "colab": {
      "provenance": [],
      "include_colab_link": true
    }
  },
  "nbformat": 4,
  "nbformat_minor": 0
}