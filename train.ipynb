{
 "cells": [
  {
   "cell_type": "markdown",
   "metadata": {
    "id": "sHHqtpnzJaVu"
   },
   "source": [
    "<a href=\"https://colab.research.google.com/github/pandurangpatil/erav4-backpropbay/blob/main/session8-more-trials/train.ipynb\" target=\"_parent\"><img src=\"https://colab.research.google.com/assets/colab-badge.svg\" alt=\"Open In Colab\"/></a>"
   ]
  },
  {
   "cell_type": "markdown",
   "metadata": {
    "id": "b2qR_1k5JaVu"
   },
   "source": "# Training ImageNet Model (ImageNette) on Google Colab\n\nThis notebook trains a ResNet50 model on ImageNette2-160 using Google Colab's GPU with the **new modular codebase**.\n\n**What is ImageNette?**\n- A 10-class subset of ImageNet (tench, English springer, cassette player, chain saw, church, French horn, garbage truck, gas pump, golf ball, parachute)\n- Images resized to 160x160 pixels for faster training\n- ~13,000 training images, ~3,900 validation images\n- Perfect for experimenting with ImageNet-style training\n\n**Training Configuration:**\n- Model: resnet50-pytorch (ResNet50)\n- Dataset: ImageNette2-160 (10 classes from ImageNet)\n- Epochs: 20 (faster training for experimentation)\n- Batch Size: 128\n- Image Size: 224x224 (resized from 160px)\n- Scheduler: OneCycle Learning Rate Policy\n- LR Finder: Enabled (automatically finds optimal learning rate)\n\n**Modular Structure:**\n- Datasets in `data_loaders/` - Easy to add new datasets\n- Models in `models/` - Clean separation of architectures  \n- Training components in `training/` - Reusable optimizer, scheduler, LR finder\n- Utilities in `utils/` - Checkpointing, metrics, HuggingFace upload"
  },
  {
   "cell_type": "markdown",
   "metadata": {
    "id": "PD-egmL6JaVv"
   },
   "source": [
    "## Clone Repository"
   ]
  },
  {
   "cell_type": "code",
   "execution_count": 5,
   "metadata": {
    "id": "bauefBUAJaVv",
    "outputId": "586c7e75-04a1-4ab7-e6bd-c2ea0a0b75a7",
    "colab": {
     "base_uri": "https://localhost:8080/"
    }
   },
   "outputs": [
    {
     "output_type": "stream",
     "name": "stdout",
     "text": [
      "Cloning into 'erav4-backpropbay'...\n",
      "remote: Enumerating objects: 292, done.\u001b[K\n",
      "remote: Counting objects: 100% (50/50), done.\u001b[K\n",
      "remote: Compressing objects: 100% (40/40), done.\u001b[K\n",
      "remote: Total 292 (delta 12), reused 40 (delta 10), pack-reused 242 (from 1)\u001b[K\n",
      "Receiving objects: 100% (292/292), 3.71 MiB | 19.40 MiB/s, done.\n",
      "Resolving deltas: 100% (131/131), done.\n"
     ]
    }
   ],
   "source": [
    "# Clone the repository\n",
    "!git clone https://github.com/pandurangpatil/erav4-backpropbay.git"
   ]
  },
  {
   "cell_type": "code",
   "execution_count": 6,
   "metadata": {
    "id": "kBIlDXhMJaVv",
    "outputId": "8751a09a-a2ec-4d80-8709-aee7ce044961",
    "colab": {
     "base_uri": "https://localhost:8080/"
    }
   },
   "outputs": [
    {
     "output_type": "stream",
     "name": "stdout",
     "text": [
      "/content/erav4-backpropbay/session8-more-trials/erav4-backpropbay/session8-more-trials\n"
     ]
    }
   ],
   "source": [
    "# Navigate to the session8-more-trials directory\n",
    "%cd erav4-backpropbay/session8-more-trials"
   ]
  },
  {
   "cell_type": "code",
   "source": "# Download ImageNette2-160 dataset\nprint(\"Downloading ImageNette2-160 dataset...\")\n!wget -q https://s3.amazonaws.com/fast-ai-imageclas/imagenette2-160.tgz\nprint(\"✓ Download complete\")\n\nprint(\"\\nExtracting dataset...\")\n!tar -xzf imagenette2-160.tgz\nprint(\"✓ Extraction complete\")\n\nprint(\"\\nDataset structure:\")\n!ls -lh imagenette2-160/\n\nprint(\"\\nTrain classes:\")\n!ls imagenette2-160/train/\n\nprint(\"\\nValidation classes:\")\n!ls imagenette2-160/val/\n\n# Count images\nimport os\ntrain_count = sum([len(files) for r, d, files in os.walk('imagenette2-160/train')])\nval_count = sum([len(files) for r, d, files in os.walk('imagenette2-160/val')])\nprint(f\"\\n✓ Dataset ready:\")\nprint(f\"  Training images: {train_count}\")\nprint(f\"  Validation images: {val_count}\")",
   "metadata": {},
   "execution_count": null,
   "outputs": []
  },
  {
   "cell_type": "markdown",
   "source": "## Download ImageNette Dataset\n\nImageNette2-160 is a 10-class subset of ImageNet with images resized to 160x160 pixels. We'll download and extract it for training.",
   "metadata": {}
  },
  {
   "cell_type": "markdown",
   "metadata": {
    "id": "Bnj1Ui1hJaVv"
   },
   "source": [
    "## Install Dependencies"
   ]
  },
  {
   "cell_type": "code",
   "execution_count": 7,
   "metadata": {
    "id": "2bYuqyRPJaVw"
   },
   "outputs": [],
   "source": [
    "# Install dependencies from requirements.txt\n",
    "!pip install -r requirements.txt -q"
   ]
  },
  {
   "cell_type": "markdown",
   "metadata": {
    "id": "WNIqyGmZJaVw"
   },
   "source": [
    "## Check GPU Availability"
   ]
  },
  {
   "cell_type": "code",
   "execution_count": null,
   "metadata": {
    "id": "TI3vtkkiJaVw",
    "outputId": "a5de39cb-71e9-452d-e517-6b8201c41537",
    "colab": {
     "base_uri": "https://localhost:8080/"
    }
   },
   "outputs": [],
   "source": "# Setup HuggingFace token from Colab secrets (optional)\nHF_TOKEN = None\nHF_REPO_ID = None\n\ntry:\n    from google.colab import userdata\n    HF_TOKEN = userdata.get('HF_TOKEN')\n    HF_REPO_ID = 'your-username/imagenette-resnet50'  # ⚠️ Change this to your repo!\n    print(\"✓ HuggingFace token retrieved from Colab secrets\")\n    print(f\"✓ Will upload to: {HF_REPO_ID}\")\n    print(\"\\n⚠️ Remember to update HF_REPO_ID with your actual repository name!\")\nexcept Exception as e:\n    print(f\"ℹ️ HuggingFace token not found in secrets\")\n    print(\"  Training will proceed without HuggingFace upload\")\n    print(\"  Models will be saved locally in checkpoint folders\")"
  },
  {
   "cell_type": "markdown",
   "metadata": {
    "id": "Riz9cAb5JaVw"
   },
   "source": [
    "## Setup HuggingFace Token (Optional)\n",
    "\n",
    "If you want to upload your trained model to HuggingFace Hub:\n",
    "1. Go to Colab Secrets (🔑 icon in left sidebar)\n",
    "2. Add a secret named `HF_TOKEN` with your HuggingFace API token\n",
    "3. Update `HF_REPO_ID` below with your repository name"
   ]
  },
  {
   "cell_type": "code",
   "execution_count": null,
   "metadata": {
    "id": "UVoGUJZ5JaVw",
    "outputId": "cdbd6c09-a1c8-4ab5-b108-533fdfa5d859",
    "colab": {
     "base_uri": "https://localhost:8080/"
    }
   },
   "outputs": [],
   "source": "import os\n\nprint(\"\\n\" + \"=\"*70)\nprint(\"VERIFYING TRAINING FILES AND MODULAR STRUCTURE\")\nprint(\"=\"*70)\n\n# Check required files\nrequired_files = ['train.py', 'config.json', 'requirements.txt']\nprint(\"\\nRequired Files:\")\nfiles_ok = True\nfor file in required_files:\n    exists = os.path.exists(file)\n    status = \"✓\" if exists else \"✗\"\n    print(f\"{status} {file}\")\n    if not exists:\n        files_ok = False\n\n# Check modular directories\nrequired_dirs = ['data_loaders', 'models', 'training', 'utils']\nprint(\"\\nModular Directories:\")\ndirs_ok = True\nfor dir in required_dirs:\n    exists = os.path.isdir(dir)\n    status = \"✓\" if exists else \"✗\"\n    print(f\"{status} {dir}/\")\n    if not exists:\n        dirs_ok = False\n\nprint(\"=\"*70)\nif files_ok and dirs_ok:\n    print(\"✓ All required files and modular structure verified!\")\nelse:\n    print(\"⚠ Some files or directories are missing!\")\nprint(\"=\"*70)"
  },
  {
   "cell_type": "markdown",
   "metadata": {
    "id": "Y4GHj8s8JaVx"
   },
   "source": "## Training Configuration\n\nThe training will use the following settings with the **new modular codebase**:\n\n### Command Line Arguments:\n- `--epochs 20` - Train for 20 epochs (faster experimentation)\n- `--batch-size 128` - Use batch size of 128 (suitable for 224x224 images)\n- `--model resnet50-pytorch` - Use ResNet50 architecture from `models/resnet50_pytorch.py`\n- `--dataset imagenet` - Use ImageNet dataset loader from `data_loaders/imagenet.py`\n- `--data-dir ./imagenette2-160` - Path to ImageNette dataset\n- `--num-classes 10` - Specify 10 classes for ImageNette\n- `--scheduler onecycle` - Use OneCycle learning rate scheduler\n- `--lr-finder` - Automatically find optimal learning rate before training\n\n### What happens during training:\n\n**Phase 1: LR Finder (3 epochs)**\n- Runs a learning rate range test from 1e-6 to 1.0\n- Identifies optimal `max_lr` and `base_lr` for OneCycle scheduler\n- Saves plot to `checkpoint_N/lr_finder_plot.png`\n- Restores model to initial state\n\n**Phase 2: Main Training (20 epochs)**\n- Uses OneCycle scheduler with automatically found learning rates\n- Applies MixUp augmentation (alpha=0.2)\n- Uses label smoothing (0.1)\n- Gradient clipping (max_norm=1.0)\n- Mixed precision training (AMP)\n- Early stopping (patience=15)\n- Strong augmentation: RandomResizedCrop, HorizontalFlip, ColorJitter, Affine, GaussianBlur\n\n### Dataset Details:\n- **ImageNette2-160**: 10-class subset of ImageNet\n- **Classes**: tench, English springer, cassette player, chain saw, church, French horn, garbage truck, gas pump, golf ball, parachute\n- **Image Size**: 160x160 (input) → 224x224 (resized during training)\n- **Training samples**: ~9,469\n- **Validation samples**: ~3,925\n\n### Checkpoints:\n- Best model saved automatically when test accuracy improves\n- Checkpoint folders named `checkpoint_1`, `checkpoint_2`, etc.\n- Each folder contains: best_model.pth, metrics.json, training_curves.png, config.json, README.md\n\n### Available Models:\n- `resnet50-pytorch` - ResNet50 from PyTorch (25.6M parameters, optimized for ImageNet)"
  },
  {
   "cell_type": "code",
   "execution_count": null,
   "metadata": {
    "id": "b-cVexxqJaVx",
    "outputId": "c04285ed-9b3a-4227-8e0b-f73ebd434f2c",
    "colab": {
     "base_uri": "https://localhost:8080/"
    }
   },
   "outputs": [],
   "source": "## Start Training\n\n**⏱️ Expected Time:** ~30-45 minutes on Colab's T4 GPU for 20 epochs\n\n**Note:** The cell below will run for a while. You can monitor progress through the output below."
  },
  {
   "cell_type": "markdown",
   "metadata": {
    "id": "1nZKRr40JaVx"
   },
   "source": "# Build the training command with modular codebase\n# Using ResNet50-PyTorch for ImageNet/ImageNette\nMODEL = \"resnet50-pytorch\"\n\ncmd = f\"python train.py --epochs 20 --batch-size 128 --model {MODEL} --dataset imagenet --data-dir ./imagenette2-160 --num-classes 10 --scheduler onecycle --lr-finder\"\n\n# Add HuggingFace parameters if available\nif HF_TOKEN and HF_REPO_ID:\n    cmd += f\" --hf-token {HF_TOKEN} --hf-repo {HF_REPO_ID}\"\n    print(f\"✓ HuggingFace upload enabled: {HF_REPO_ID}\")\nelse:\n    print(\"ℹ️ Training without HuggingFace upload\")\n\nprint(f\"\\nRunning command: {cmd.replace(HF_TOKEN or '', '***TOKEN***')}\\n\")\nprint(\"=\"*70)\n\n# Run training\n!{cmd}"
  },
  {
   "cell_type": "markdown",
   "metadata": {
    "id": "VQykX5GdJaVx"
   },
   "source": [
    "## Start Training\n",
    "\n",
    "**⏱️ Expected Time:** ~2-3 hours on Colab's T4 GPU\n",
    "\n",
    "**Note:** The cell below will run for a long time. You can monitor progress through the output below."
   ]
  },
  {
   "cell_type": "code",
   "execution_count": 11,
   "metadata": {
    "id": "y8Tqz6ygJaVx",
    "outputId": "1d1c8872-6217-4e01-e6f8-9285807d96ef",
    "colab": {
     "base_uri": "https://localhost:8080/"
    }
   },
   "outputs": [
    {
     "output_type": "stream",
     "name": "stdout",
     "text": [
      "ℹ️ Training without HuggingFace upload\n",
      "\n",
      "Running command: ***TOKEN***p***TOKEN***y***TOKEN***t***TOKEN***h***TOKEN***o***TOKEN***n***TOKEN*** ***TOKEN***t***TOKEN***r***TOKEN***a***TOKEN***i***TOKEN***n***TOKEN***.***TOKEN***p***TOKEN***y***TOKEN*** ***TOKEN***-***TOKEN***-***TOKEN***e***TOKEN***p***TOKEN***o***TOKEN***c***TOKEN***h***TOKEN***s***TOKEN*** ***TOKEN***5***TOKEN***0***TOKEN*** ***TOKEN***-***TOKEN***-***TOKEN***b***TOKEN***a***TOKEN***t***TOKEN***c***TOKEN***h***TOKEN***-***TOKEN***s***TOKEN***i***TOKEN***z***TOKEN***e***TOKEN*** ***TOKEN***2***TOKEN***5***TOKEN***6***TOKEN*** ***TOKEN***-***TOKEN***-***TOKEN***m***TOKEN***o***TOKEN***d***TOKEN***e***TOKEN***l***TOKEN*** ***TOKEN***r***TOKEN***e***TOKEN***s***TOKEN***n***TOKEN***e***TOKEN***t***TOKEN***5***TOKEN***0***TOKEN*** ***TOKEN***-***TOKEN***-***TOKEN***s***TOKEN***c***TOKEN***h***TOKEN***e***TOKEN***d***TOKEN***u***TOKEN***l***TOKEN***e***TOKEN***r***TOKEN*** ***TOKEN***o***TOKEN***n***TOKEN***e***TOKEN***c***TOKEN***y***TOKEN***c***TOKEN***l***TOKEN***e***TOKEN*** ***TOKEN***-***TOKEN***-***TOKEN***l***TOKEN***r***TOKEN***-***TOKEN***f***TOKEN***i***TOKEN***n***TOKEN***d***TOKEN***e***TOKEN***r***TOKEN***\n",
      "\n",
      "======================================================================\n",
      "✓ Loaded config from: ./config.json\n",
      "\n",
      "======================================================================\n",
      "TRAINING CONFIGURATION\n",
      "======================================================================\n",
      "Model: resnet50\n",
      "Dataset: cifar100\n",
      "Epochs: 50\n",
      "Batch Size: 256\n",
      "Optimizer: sgd\n",
      "Scheduler: onecycle\n",
      "Augmentation: strong\n",
      "MixUp: True (alpha=0.2)\n",
      "Label Smoothing: 0.1\n",
      "Mixed Precision: True\n",
      "Gradient Clipping: 1.0\n",
      "LR Finder: True\n",
      "======================================================================\n",
      "\n",
      "\n",
      "======================================================================\n",
      "GPU DETECTION AND CONFIGURATION\n",
      "======================================================================\n",
      "✓ CUDA is available\n",
      "✓ Number of GPUs: 1\n",
      "  GPU 0: Tesla T4\n",
      "    Memory: 14.74 GB\n",
      "✓ Using GPU: Tesla T4\n",
      "✓ CUDA Version: 12.6\n",
      "✓ PyTorch Version: 2.8.0+cu126\n",
      "======================================================================\n",
      "\n",
      "\n",
      "📊 Dataset: CIFAR-100\n",
      "   Classes: 100\n",
      "   Train samples: 50000\n",
      "   Test samples: 10000\n",
      "\n",
      "Loading datasets...\n",
      "100% 169M/169M [00:06<00:00, 24.6MB/s]\n",
      "/usr/local/lib/python3.12/dist-packages/torch/utils/data/dataloader.py:627: UserWarning: This DataLoader will create 4 worker processes in total. Our suggested max number of worker in current system is 2, which is smaller than what this DataLoader is going to create. Please be aware that excessive worker creation might get DataLoader running slow or even freeze, lower the worker number to avoid potential slowness/freeze if necessary.\n",
      "  warnings.warn(\n",
      "✓ Train batches: 196\n",
      "✓ Test batches: 40\n",
      "\n",
      "Creating model: resnet50\n",
      "✓ Model created\n",
      "\n",
      "✓ Optimizer: sgd\n",
      "\n",
      "✓ Scheduler: onecycle\n",
      "\n",
      "📁 Checkpoint folder: ./checkpoint_1\n",
      "/content/erav4-backpropbay/session8-more-trials/erav4-backpropbay/session8-more-trials/training/trainer.py:71: FutureWarning: `torch.cuda.amp.GradScaler(args...)` is deprecated. Please use `torch.amp.GradScaler('cuda', args...)` instead.\n",
      "  self.scaler = GradScaler() if self.use_amp else None\n",
      "\n",
      "======================================================================\n",
      "STARTING LR FINDER\n",
      "======================================================================\n",
      "\n",
      "======================================================================\n",
      "LEARNING RATE FINDER - RANGE TEST\n",
      "======================================================================\n",
      "Testing learning rates from 1.00e-06 to 1.00e+00\n",
      "Running for 3 epochs\n",
      "Note: Using clean data (no MixUp, no Label Smoothing)\n",
      "======================================================================\n",
      "\n",
      "LR Finder Epoch 1/3: 100% 196/196 [02:25<00:00,  1.35it/s, lr=9.77e-05, loss=4.6057]\n",
      "LR Finder Epoch 2/3: 100% 196/196 [02:26<00:00,  1.34it/s, lr=9.77e-03, loss=4.6277]\n",
      "LR Finder Epoch 3/3: 100% 196/196 [02:26<00:00,  1.34it/s, lr=9.77e-01, loss=3.9772]\n",
      "\n",
      "Restoring initial model and optimizer state...\n",
      "✓ LR range test completed: 588 data points collected\n",
      "\n",
      "\n",
      "======================================================================\n",
      "LR FINDER ANALYSIS\n",
      "======================================================================\n",
      "  Method: Steepest Gradient\n",
      "  → Suggested LR: 0.026827\n",
      "  → Loss at this point: 4.6116\n",
      "\n",
      "======================================================================\n",
      "ONECYCLE LR RECOMMENDATIONS\n",
      "======================================================================\n",
      "  Max LR:  0.026827 (peak learning rate)\n",
      "  Base LR: 0.000001 (starting learning rate)\n",
      "  Ratio:   25001.1x (max_lr / base_lr)\n",
      "======================================================================\n",
      "\n",
      "✓ LR Finder plot saved: ./checkpoint_1/lr_finder_plot.png\n",
      "\n",
      "======================================================================\n",
      "LR FINDER COMPLETED\n",
      "======================================================================\n",
      "\n",
      "\n",
      "======================================================================\n",
      "UPDATING SCHEDULER WITH LR FINDER RESULTS\n",
      "======================================================================\n",
      "  Max LR: 0.026827\n",
      "  Base LR (via div_factor): 0.000001\n",
      "======================================================================\n",
      "\n",
      "\n",
      "======================================================================\n",
      "STARTING TRAINING\n",
      "======================================================================\n",
      "\n",
      "Epoch 1:   0% 0/196 [00:00<?, ?it/s]/usr/local/lib/python3.12/dist-packages/torch/utils/data/dataloader.py:627: UserWarning: This DataLoader will create 4 worker processes in total. Our suggested max number of worker in current system is 2, which is smaller than what this DataLoader is going to create. Please be aware that excessive worker creation might get DataLoader running slow or even freeze, lower the worker number to avoid potential slowness/freeze if necessary.\n",
      "  warnings.warn(\n",
      "Epoch 1: 100% 196/196 [00:59<00:00,  3.29it/s, loss=4.6199, acc=1.01%, lr=0.000294]\n",
      "\n",
      "Test set: Average loss: 4.6850, Accuracy: 132/10000 (1.32%)\n",
      "\n",
      "Best so far: 1.32% | Patience: 1/15\n",
      "\n",
      "Epoch 2: 100% 196/196 [00:57<00:00,  3.39it/s, loss=4.5764, acc=1.22%, lr=0.001161]\n",
      "\n",
      "Test set: Average loss: 4.5702, Accuracy: 150/10000 (1.50%)\n",
      "\n",
      "Best so far: 1.50% | Patience: 2/15\n",
      "\n",
      "Epoch 3: 100% 196/196 [00:57<00:00,  3.39it/s, loss=4.5651, acc=1.53%, lr=0.002564]\n",
      "\n",
      "Test set: Average loss: 4.5397, Accuracy: 160/10000 (1.60%)\n",
      "\n",
      "Best so far: 1.60% | Patience: 3/15\n",
      "\n",
      "Epoch 4: 100% 196/196 [00:57<00:00,  3.39it/s, loss=4.5677, acc=1.69%, lr=0.004442]\n",
      "\n",
      "Test set: Average loss: 4.4951, Accuracy: 227/10000 (2.27%)\n",
      "\n",
      "Best so far: 2.27% | Patience: 4/15\n",
      "\n",
      "Epoch 5: 100% 196/196 [00:58<00:00,  3.38it/s, loss=4.5508, acc=2.07%, lr=0.006712]\n",
      "\n",
      "Test set: Average loss: 4.4859, Accuracy: 251/10000 (2.51%)\n",
      "\n",
      "Best so far: 2.51% | Patience: 5/15\n",
      "\n",
      "Epoch 6: 100% 196/196 [00:58<00:00,  3.38it/s, loss=4.5864, acc=2.15%, lr=0.009275]\n",
      "\n",
      "Test set: Average loss: 4.4526, Accuracy: 225/10000 (2.25%)\n",
      "\n",
      "Best so far: 2.51% | Patience: 6/15\n",
      "\n",
      "Epoch 7: 100% 196/196 [00:57<00:00,  3.38it/s, loss=4.4416, acc=2.68%, lr=0.012019]\n",
      "\n",
      "Test set: Average loss: 4.3899, Accuracy: 358/10000 (3.58%)\n",
      "\n",
      "Best so far: 3.58% | Patience: 7/15\n",
      "\n",
      "Epoch 8: 100% 196/196 [00:58<00:00,  3.36it/s, loss=4.2962, acc=3.47%, lr=0.014824]\n",
      "\n",
      "Test set: Average loss: 4.3046, Accuracy: 424/10000 (4.24%)\n",
      "\n",
      "Best so far: 4.24% | Patience: 8/15\n",
      "\n",
      "Epoch 9: 100% 196/196 [00:57<00:00,  3.39it/s, loss=4.2862, acc=4.49%, lr=0.017567]\n",
      "\n",
      "Test set: Average loss: 4.1854, Accuracy: 562/10000 (5.62%)\n",
      "\n",
      "Best so far: 5.62% | Patience: 9/15\n",
      "\n",
      "Epoch 10: 100% 196/196 [00:57<00:00,  3.39it/s, loss=4.3600, acc=5.78%, lr=0.020129]\n",
      "\n",
      "Test set: Average loss: 4.0853, Accuracy: 673/10000 (6.73%)\n",
      "\n",
      "📍 Breakpoint checkpoint at epoch 10\n",
      "💾 Saved checkpoint: ./checkpoint_1/checkpoint_epoch10.pth\n",
      "Best so far: 6.73% | Patience: 10/15\n",
      "\n",
      "Epoch 11: 100% 196/196 [00:57<00:00,  3.39it/s, loss=4.4501, acc=7.70%, lr=0.022397]\n",
      "\n",
      "Test set: Average loss: 3.8641, Accuracy: 1049/10000 (10.49%)\n",
      "\n",
      "Best so far: 10.49% | Patience: 11/15\n",
      "\n",
      "Epoch 12: 100% 196/196 [00:58<00:00,  3.35it/s, loss=3.9844, acc=9.86%, lr=0.024272]\n",
      "\n",
      "Test set: Average loss: 3.6873, Accuracy: 1309/10000 (13.09%)\n",
      "\n",
      "Best so far: 13.09% | Patience: 12/15\n",
      "\n",
      "Epoch 13: 100% 196/196 [00:57<00:00,  3.39it/s, loss=4.0865, acc=12.09%, lr=0.025672]\n",
      "\n",
      "Test set: Average loss: 3.5688, Accuracy: 1653/10000 (16.53%)\n",
      "\n",
      "Best so far: 16.53% | Patience: 13/15\n",
      "\n",
      "Epoch 14: 100% 196/196 [00:57<00:00,  3.39it/s, loss=3.6184, acc=14.54%, lr=0.026537]\n",
      "\n",
      "Test set: Average loss: 3.4174, Accuracy: 1877/10000 (18.77%)\n",
      "\n",
      "Best so far: 18.77% | Patience: 14/15\n",
      "\n",
      "Epoch 15: 100% 196/196 [00:57<00:00,  3.38it/s, loss=3.6659, acc=16.43%, lr=0.026827]\n",
      "\n",
      "Test set: Average loss: 3.2867, Accuracy: 2166/10000 (21.66%)\n",
      "\n",
      "\n",
      "Early stopping triggered at epoch 15. No improvement for 15 epochs.\n",
      "\n",
      "Training completed. Best test accuracy: 21.66% (epoch 15)\n",
      "✓ Saved metrics: ./checkpoint_1/metrics.json\n",
      "\n",
      "================================================================================\n",
      "TRAINING AND TESTING LOSS\n",
      "================================================================================\n",
      "   (Y)     ^\n",
      "5.18286150 |\n",
      "4.92371842 | ⠀⠀⠀⠀⠀⠀⠀⠀⠀⠀⠀⠀⠀⠀⠀⠀⠀⠀⠀⠀⠀⠀⠀⠀⠀⠀⠀⠀⠀⠀⠀⠀⠀⠀⠀⠀⠀⠀⠀⠀⠀⠀⠀⠀⠀⠀⠀⠀⠀⠀⠀⠀⠀⠀⠀⠀⠀⠀⠀⠀⠀⠀⠀⠀⠀⠀⠀⠀⠀⠀\n",
      "4.66457535 | \u001b[38;5;196m⣤\u001b[0m\u001b[38;5;196m⣄\u001b[0m\u001b[38;5;196m⣀\u001b[0m\u001b[38;5;25m⣀\u001b[0m⠀⠀⠀⠀⠀⠀⠀⠀⠀⠀⠀⠀⠀⠀⠀⠀⠀⠀⠀⠀⠀⠀⠀⠀⠀⠀⠀⠀⠀⠀⠀⠀⠀⠀⠀⠀⠀⠀⠀⠀⠀⠀⠀⠀⠀⠀⠀⠀⠀⠀⠀⠀⠀⠀⠀⠀⠀⠀⠀⠀⠀⠀⠀⠀⠀⠀\n",
      "4.40543227 | ⠀⠀⠀\u001b[38;5;196m⠉\u001b[0m\u001b[38;5;196m⠉\u001b[0m\u001b[38;5;196m⠉\u001b[0m\u001b[38;5;196m⠉\u001b[0m\u001b[38;5;196m⠉\u001b[0m\u001b[38;5;196m⠛\u001b[0m\u001b[38;5;196m⠛\u001b[0m\u001b[38;5;196m⠛\u001b[0m\u001b[38;5;196m⠛\u001b[0m\u001b[38;5;196m⠛\u001b[0m\u001b[38;5;196m⠶\u001b[0m\u001b[38;5;196m⠶\u001b[0m\u001b[38;5;196m⠶\u001b[0m\u001b[38;5;196m⠶\u001b[0m\u001b[38;5;196m⠶\u001b[0m\u001b[38;5;196m⠶\u001b[0m\u001b[38;5;196m⠶\u001b[0m\u001b[38;5;196m⠶\u001b[0m\u001b[38;5;196m⠶\u001b[0m\u001b[38;5;196m⠶\u001b[0m\u001b[38;5;196m⠶\u001b[0m\u001b[38;5;196m⠶\u001b[0m\u001b[38;5;196m⠶\u001b[0m\u001b[38;5;196m⠶\u001b[0m\u001b[38;5;196m⠶\u001b[0m\u001b[38;5;196m⣤\u001b[0m\u001b[38;5;196m⣤\u001b[0m\u001b[38;5;196m⣤\u001b[0m\u001b[38;5;196m⡤\u001b[0m\u001b[38;5;25m⠤\u001b[0m\u001b[38;5;25m⠤\u001b[0m\u001b[38;5;25m⠤\u001b[0m\u001b[38;5;25m⠤\u001b[0m\u001b[38;5;25m⠤\u001b[0m\u001b[38;5;25m⠤\u001b[0m\u001b[38;5;25m⣀\u001b[0m\u001b[38;5;25m⣀\u001b[0m\u001b[38;5;25m⣀\u001b[0m\u001b[38;5;25m⡀\u001b[0m⠀⠀⠀⠀⠀⠀⠀⠀⠀⠀⠀⠀⠀⠀⠀⠀⠀⠀⠀⠀⠀⠀⠀⠀⠀⠀⠀⠀\n",
      "4.14628920 | ⠀⠀⠀⠀⠀⠀⠀⠀⠀⠀⠀⠀⠀⠀⠀⠀⠀⠀⠀⠀⠀⠀⠀⠀⠀⠀⠀⠀⠀⠀⠀\u001b[38;5;196m⠈\u001b[0m\u001b[38;5;196m⠉\u001b[0m\u001b[38;5;196m⠉\u001b[0m\u001b[38;5;196m⠒\u001b[0m\u001b[38;5;196m⠒\u001b[0m\u001b[38;5;196m⠒\u001b[0m\u001b[38;5;196m⠒\u001b[0m\u001b[38;5;196m⠤\u001b[0m\u001b[38;5;196m⠤\u001b[0m\u001b[38;5;196m⠤\u001b[0m\u001b[38;5;196m⢌\u001b[0m\u001b[38;5;196m⣉\u001b[0m\u001b[38;5;196m⣉\u001b[0m\u001b[38;5;25m⠒\u001b[0m\u001b[38;5;25m⠒\u001b[0m\u001b[38;5;25m⠒\u001b[0m\u001b[38;5;25m⠒\u001b[0m\u001b[38;5;25m⠤\u001b[0m\u001b[38;5;25m⠤\u001b[0m\u001b[38;5;25m⠤\u001b[0m\u001b[38;5;25m⢄\u001b[0m\u001b[38;5;25m⣀\u001b[0m\u001b[38;5;25m⣀\u001b[0m⠀⠀⠀⠀⠀⠀⠀⠀⠀⠀⠀⠀⠀⠀⠀⠀\n",
      "3.88714612 | ⠀⠀⠀⠀⠀⠀⠀⠀⠀⠀⠀⠀⠀⠀⠀⠀⠀⠀⠀⠀⠀⠀⠀⠀⠀⠀⠀⠀⠀⠀⠀⠀⠀⠀⠀⠀⠀⠀⠀⠀⠀⠀⠀⠀\u001b[38;5;196m⠉\u001b[0m\u001b[38;5;196m⠉\u001b[0m\u001b[38;5;196m⠒\u001b[0m\u001b[38;5;196m⠢\u001b[0m\u001b[38;5;196m⠤\u001b[0m\u001b[38;5;196m⢄\u001b[0m\u001b[38;5;196m⣀\u001b[0m⠀⠀⠀\u001b[38;5;25m⠉\u001b[0m\u001b[38;5;25m⠉\u001b[0m\u001b[38;5;25m⠑\u001b[0m\u001b[38;5;25m⠒\u001b[0m\u001b[38;5;25m⠒\u001b[0m\u001b[38;5;25m⠤\u001b[0m\u001b[38;5;25m⠤\u001b[0m\u001b[38;5;25m⠤\u001b[0m\u001b[38;5;25m⠤\u001b[0m\u001b[38;5;25m⣀\u001b[0m\u001b[38;5;25m⣀\u001b[0m\u001b[38;5;25m⣀\u001b[0m\u001b[38;5;25m⡀\u001b[0m⠀⠀⠀\n",
      "3.62800305 | ⠀⠀⠀⠀⠀⠀⠀⠀⠀⠀⠀⠀⠀⠀⠀⠀⠀⠀⠀⠀⠀⠀⠀⠀⠀⠀⠀⠀⠀⠀⠀⠀⠀⠀⠀⠀⠀⠀⠀⠀⠀⠀⠀⠀⠀⠀⠀⠀⠀⠀⠀\u001b[38;5;196m⠉\u001b[0m\u001b[38;5;196m⠑\u001b[0m\u001b[38;5;196m⠒\u001b[0m\u001b[38;5;196m⠢\u001b[0m\u001b[38;5;196m⠤\u001b[0m\u001b[38;5;196m⢄\u001b[0m\u001b[38;5;196m⣀\u001b[0m\u001b[38;5;196m⣀\u001b[0m⠀⠀⠀⠀⠀⠀⠀\u001b[38;5;25m⠈\u001b[0m\u001b[38;5;25m⠉\u001b[0m\u001b[38;5;25m⠉\u001b[0m\u001b[38;5;25m⠒\u001b[0m\n",
      "3.36885997 | ⠀⠀⠀⠀⠀⠀⠀⠀⠀⠀⠀⠀⠀⠀⠀⠀⠀⠀⠀⠀⠀⠀⠀⠀⠀⠀⠀⠀⠀⠀⠀⠀⠀⠀⠀⠀⠀⠀⠀⠀⠀⠀⠀⠀⠀⠀⠀⠀⠀⠀⠀⠀⠀⠀⠀⠀⠀⠀⠀\u001b[38;5;196m⠉\u001b[0m\u001b[38;5;196m⠉\u001b[0m\u001b[38;5;196m⠑\u001b[0m\u001b[38;5;196m⠒\u001b[0m\u001b[38;5;196m⠒\u001b[0m\u001b[38;5;196m⠤\u001b[0m\u001b[38;5;196m⠤\u001b[0m\u001b[38;5;196m⢄\u001b[0m\u001b[38;5;196m⣀\u001b[0m\u001b[38;5;196m⣀\u001b[0m⠀\n",
      "3.10971690 | ⠀⠀⠀⠀⠀⠀⠀⠀⠀⠀⠀⠀⠀⠀⠀⠀⠀⠀⠀⠀⠀⠀⠀⠀⠀⠀⠀⠀⠀⠀⠀⠀⠀⠀⠀⠀⠀⠀⠀⠀⠀⠀⠀⠀⠀⠀⠀⠀⠀⠀⠀⠀⠀⠀⠀⠀⠀⠀⠀⠀⠀⠀⠀⠀⠀⠀⠀⠀⠀\u001b[38;5;196m⠉\u001b[0m\n",
      "2.85057382 | ⠀⠀⠀⠀⠀⠀⠀⠀⠀⠀⠀⠀⠀⠀⠀⠀⠀⠀⠀⠀⠀⠀⠀⠀⠀⠀⠀⠀⠀⠀⠀⠀⠀⠀⠀⠀⠀⠀⠀⠀⠀⠀⠀⠀⠀⠀⠀⠀⠀⠀⠀⠀⠀⠀⠀⠀⠀⠀⠀⠀⠀⠀⠀⠀⠀⠀⠀⠀⠀⠀\n",
      "2.59143075 | ⠀⠀⠀⠀⠀⠀⠀⠀⠀⠀⠀⠀⠀⠀⠀⠀⠀⠀⠀⠀⠀⠀⠀⠀⠀⠀⠀⠀⠀⠀⠀⠀⠀⠀⠀⠀⠀⠀⠀⠀⠀⠀⠀⠀⠀⠀⠀⠀⠀⠀⠀⠀⠀⠀⠀⠀⠀⠀⠀⠀⠀⠀⠀⠀⠀⠀⠀⠀⠀⠀\n",
      "2.33228767 | ⠀⠀⠀⠀⠀⠀⠀⠀⠀⠀⠀⠀⠀⠀⠀⠀⠀⠀⠀⠀⠀⠀⠀⠀⠀⠀⠀⠀⠀⠀⠀⠀⠀⠀⠀⠀⠀⠀⠀⠀⠀⠀⠀⠀⠀⠀⠀⠀⠀⠀⠀⠀⠀⠀⠀⠀⠀⠀⠀⠀⠀⠀⠀⠀⠀⠀⠀⠀⠀⠀\n",
      "2.07314460 | ⠀⠀⠀⠀⠀⠀⠀⠀⠀⠀⠀⠀⠀⠀⠀⠀⠀⠀⠀⠀⠀⠀⠀⠀⠀⠀⠀⠀⠀⠀⠀⠀⠀⠀⠀⠀⠀⠀⠀⠀⠀⠀⠀⠀⠀⠀⠀⠀⠀⠀⠀⠀⠀⠀⠀⠀⠀⠀⠀⠀⠀⠀⠀⠀⠀⠀⠀⠀⠀⠀\n",
      "1.81400152 | ⠀⠀⠀⠀⠀⠀⠀⠀⠀⠀⠀⠀⠀⠀⠀⠀⠀⠀⠀⠀⠀⠀⠀⠀⠀⠀⠀⠀⠀⠀⠀⠀⠀⠀⠀⠀⠀⠀⠀⠀⠀⠀⠀⠀⠀⠀⠀⠀⠀⠀⠀⠀⠀⠀⠀⠀⠀⠀⠀⠀⠀⠀⠀⠀⠀⠀⠀⠀⠀⠀\n",
      "1.55485845 | ⠀⠀⠀⠀⠀⠀⠀⠀⠀⠀⠀⠀⠀⠀⠀⠀⠀⠀⠀⠀⠀⠀⠀⠀⠀⠀⠀⠀⠀⠀⠀⠀⠀⠀⠀⠀⠀⠀⠀⠀⠀⠀⠀⠀⠀⠀⠀⠀⠀⠀⠀⠀⠀⠀⠀⠀⠀⠀⠀⠀⠀⠀⠀⠀⠀⠀⠀⠀⠀⠀\n",
      "1.29571537 | ⠀⠀⠀⠀⠀⠀⠀⠀⠀⠀⠀⠀⠀⠀⠀⠀⠀⠀⠀⠀⠀⠀⠀⠀⠀⠀⠀⠀⠀⠀⠀⠀⠀⠀⠀⠀⠀⠀⠀⠀⠀⠀⠀⠀⠀⠀⠀⠀⠀⠀⠀⠀⠀⠀⠀⠀⠀⠀⠀⠀⠀⠀⠀⠀⠀⠀⠀⠀⠀⠀\n",
      "1.03657230 | ⠀⠀⠀⠀⠀⠀⠀⠀⠀⠀⠀⠀⠀⠀⠀⠀⠀⠀⠀⠀⠀⠀⠀⠀⠀⠀⠀⠀⠀⠀⠀⠀⠀⠀⠀⠀⠀⠀⠀⠀⠀⠀⠀⠀⠀⠀⠀⠀⠀⠀⠀⠀⠀⠀⠀⠀⠀⠀⠀⠀⠀⠀⠀⠀⠀⠀⠀⠀⠀⠀\n",
      "0.77742922 | ⠀⠀⠀⠀⠀⠀⠀⠀⠀⠀⠀⠀⠀⠀⠀⠀⠀⠀⠀⠀⠀⠀⠀⠀⠀⠀⠀⠀⠀⠀⠀⠀⠀⠀⠀⠀⠀⠀⠀⠀⠀⠀⠀⠀⠀⠀⠀⠀⠀⠀⠀⠀⠀⠀⠀⠀⠀⠀⠀⠀⠀⠀⠀⠀⠀⠀⠀⠀⠀⠀\n",
      "0.51828615 | ⠀⠀⠀⠀⠀⠀⠀⠀⠀⠀⠀⠀⠀⠀⠀⠀⠀⠀⠀⠀⠀⠀⠀⠀⠀⠀⠀⠀⠀⠀⠀⠀⠀⠀⠀⠀⠀⠀⠀⠀⠀⠀⠀⠀⠀⠀⠀⠀⠀⠀⠀⠀⠀⠀⠀⠀⠀⠀⠀⠀⠀⠀⠀⠀⠀⠀⠀⠀⠀⠀\n",
      "0.25914307 | ⠀⠀⠀⠀⠀⠀⠀⠀⠀⠀⠀⠀⠀⠀⠀⠀⠀⠀⠀⠀⠀⠀⠀⠀⠀⠀⠀⠀⠀⠀⠀⠀⠀⠀⠀⠀⠀⠀⠀⠀⠀⠀⠀⠀⠀⠀⠀⠀⠀⠀⠀⠀⠀⠀⠀⠀⠀⠀⠀⠀⠀⠀⠀⠀⠀⠀⠀⠀⠀⠀\n",
      "         0 | ⣀⣀⣀⣀⣀⣀⣀⣀⣀⣀⣀⣀⣀⣀⣀⣀⣀⣀⣀⣀⣀⣀⣀⣀⣀⣀⣀⣀⣀⣀⣀⣀⣀⣀⣀⣀⣀⣀⣀⣀⣀⣀⣀⣀⣀⣀⣀⣀⣀⣀⣀⣀⣀⣀⣀⣀⣀⣀⣀⣀⣀⣀⣀⣀⣀⣀⣀⣀⣀⣀\n",
      "-----------|-|---------|---------|---------|---------|---------|---------|---------|-> (X)\n",
      "           | 1         3         5         7         9         11        13        15       \n",
      "\n",
      "Legend:\n",
      "-------\n",
      "\u001b[38;5;25m⠤⠤ Training Loss\u001b[0m\n",
      "\u001b[38;5;196m⠤⠤ Testing Loss\u001b[0m\n",
      "\n",
      "================================================================================\n",
      "TRAINING AND TESTING ACCURACY\n",
      "================================================================================\n",
      "   (Y)     ^\n",
      "       100 |\n",
      "95.0479745 | ⠀⠀⠀⠀⠀⠀⠀⠀⠀⠀⠀⠀⠀⠀⠀⠀⠀⠀⠀⠀⠀⠀⠀⠀⠀⠀⠀⠀⠀⠀⠀⠀⠀⠀⠀⠀⠀⠀⠀⠀⠀⠀⠀⠀⠀⠀⠀⠀⠀⠀⠀⠀⠀⠀⠀⠀⠀⠀⠀⠀⠀⠀⠀⠀⠀⠀⠀⠀⠀⠀\n",
      "90.0959490 | ⠀⠀⠀⠀⠀⠀⠀⠀⠀⠀⠀⠀⠀⠀⠀⠀⠀⠀⠀⠀⠀⠀⠀⠀⠀⠀⠀⠀⠀⠀⠀⠀⠀⠀⠀⠀⠀⠀⠀⠀⠀⠀⠀⠀⠀⠀⠀⠀⠀⠀⠀⠀⠀⠀⠀⠀⠀⠀⠀⠀⠀⠀⠀⠀⠀⠀⠀⠀⠀⠀\n",
      "85.1439235 | ⠀⠀⠀⠀⠀⠀⠀⠀⠀⠀⠀⠀⠀⠀⠀⠀⠀⠀⠀⠀⠀⠀⠀⠀⠀⠀⠀⠀⠀⠀⠀⠀⠀⠀⠀⠀⠀⠀⠀⠀⠀⠀⠀⠀⠀⠀⠀⠀⠀⠀⠀⠀⠀⠀⠀⠀⠀⠀⠀⠀⠀⠀⠀⠀⠀⠀⠀⠀⠀⠀\n",
      "80.1918980 | ⠀⠀⠀⠀⠀⠀⠀⠀⠀⠀⠀⠀⠀⠀⠀⠀⠀⠀⠀⠀⠀⠀⠀⠀⠀⠀⠀⠀⠀⠀⠀⠀⠀⠀⠀⠀⠀⠀⠀⠀⠀⠀⠀⠀⠀⠀⠀⠀⠀⠀⠀⠀⠀⠀⠀⠀⠀⠀⠀⠀⠀⠀⠀⠀⠀⠀⠀⠀⠀⠀\n",
      "75.2398725 | ⠀⠀⠀⠀⠀⠀⠀⠀⠀⠀⠀⠀⠀⠀⠀⠀⠀⠀⠀⠀⠀⠀⠀⠀⠀⠀⠀⠀⠀⠀⠀⠀⠀⠀⠀⠀⠀⠀⠀⠀⠀⠀⠀⠀⠀⠀⠀⠀⠀⠀⠀⠀⠀⠀⠀⠀⠀⠀⠀⠀⠀⠀⠀⠀⠀⠀⠀⠀⠀⠀\n",
      "70.2878470 | ⠀⠀⠀⠀⠀⠀⠀⠀⠀⠀⠀⠀⠀⠀⠀⠀⠀⠀⠀⠀⠀⠀⠀⠀⠀⠀⠀⠀⠀⠀⠀⠀⠀⠀⠀⠀⠀⠀⠀⠀⠀⠀⠀⠀⠀⠀⠀⠀⠀⠀⠀⠀⠀⠀⠀⠀⠀⠀⠀⠀⠀⠀⠀⠀⠀⠀⠀⠀⠀⠀\n",
      "65.3358215 | ⠀⠀⠀⠀⠀⠀⠀⠀⠀⠀⠀⠀⠀⠀⠀⠀⠀⠀⠀⠀⠀⠀⠀⠀⠀⠀⠀⠀⠀⠀⠀⠀⠀⠀⠀⠀⠀⠀⠀⠀⠀⠀⠀⠀⠀⠀⠀⠀⠀⠀⠀⠀⠀⠀⠀⠀⠀⠀⠀⠀⠀⠀⠀⠀⠀⠀⠀⠀⠀⠀\n",
      "60.3837961 | ⠀⠀⠀⠀⠀⠀⠀⠀⠀⠀⠀⠀⠀⠀⠀⠀⠀⠀⠀⠀⠀⠀⠀⠀⠀⠀⠀⠀⠀⠀⠀⠀⠀⠀⠀⠀⠀⠀⠀⠀⠀⠀⠀⠀⠀⠀⠀⠀⠀⠀⠀⠀⠀⠀⠀⠀⠀⠀⠀⠀⠀⠀⠀⠀⠀⠀⠀⠀⠀⠀\n",
      "55.4317706 | ⠀⠀⠀⠀⠀⠀⠀⠀⠀⠀⠀⠀⠀⠀⠀⠀⠀⠀⠀⠀⠀⠀⠀⠀⠀⠀⠀⠀⠀⠀⠀⠀⠀⠀⠀⠀⠀⠀⠀⠀⠀⠀⠀⠀⠀⠀⠀⠀⠀⠀⠀⠀⠀⠀⠀⠀⠀⠀⠀⠀⠀⠀⠀⠀⠀⠀⠀⠀⠀⠀\n",
      "50.4797451 | ⠀⠀⠀⠀⠀⠀⠀⠀⠀⠀⠀⠀⠀⠀⠀⠀⠀⠀⠀⠀⠀⠀⠀⠀⠀⠀⠀⠀⠀⠀⠀⠀⠀⠀⠀⠀⠀⠀⠀⠀⠀⠀⠀⠀⠀⠀⠀⠀⠀⠀⠀⠀⠀⠀⠀⠀⠀⠀⠀⠀⠀⠀⠀⠀⠀⠀⠀⠀⠀⠀\n",
      "45.5277196 | ⠀⠀⠀⠀⠀⠀⠀⠀⠀⠀⠀⠀⠀⠀⠀⠀⠀⠀⠀⠀⠀⠀⠀⠀⠀⠀⠀⠀⠀⠀⠀⠀⠀⠀⠀⠀⠀⠀⠀⠀⠀⠀⠀⠀⠀⠀⠀⠀⠀⠀⠀⠀⠀⠀⠀⠀⠀⠀⠀⠀⠀⠀⠀⠀⠀⠀⠀⠀⠀⠀\n",
      "40.5756941 | ⠀⠀⠀⠀⠀⠀⠀⠀⠀⠀⠀⠀⠀⠀⠀⠀⠀⠀⠀⠀⠀⠀⠀⠀⠀⠀⠀⠀⠀⠀⠀⠀⠀⠀⠀⠀⠀⠀⠀⠀⠀⠀⠀⠀⠀⠀⠀⠀⠀⠀⠀⠀⠀⠀⠀⠀⠀⠀⠀⠀⠀⠀⠀⠀⠀⠀⠀⠀⠀⠀\n",
      "35.6236686 | ⠀⠀⠀⠀⠀⠀⠀⠀⠀⠀⠀⠀⠀⠀⠀⠀⠀⠀⠀⠀⠀⠀⠀⠀⠀⠀⠀⠀⠀⠀⠀⠀⠀⠀⠀⠀⠀⠀⠀⠀⠀⠀⠀⠀⠀⠀⠀⠀⠀⠀⠀⠀⠀⠀⠀⠀⠀⠀⠀⠀⠀⠀⠀⠀⠀⠀⠀⠀⠀⠀\n",
      "30.6716431 | ⠀⠀⠀⠀⠀⠀⠀⠀⠀⠀⠀⠀⠀⠀⠀⠀⠀⠀⠀⠀⠀⠀⠀⠀⠀⠀⠀⠀⠀⠀⠀⠀⠀⠀⠀⠀⠀⠀⠀⠀⠀⠀⠀⠀⠀⠀⠀⠀⠀⠀⠀⠀⠀⠀⠀⠀⠀⠀⠀⠀⠀⠀⠀⠀⠀⠀⠀⠀⠀⠀\n",
      "25.7196176 | ⠀⠀⠀⠀⠀⠀⠀⠀⠀⠀⠀⠀⠀⠀⠀⠀⠀⠀⠀⠀⠀⠀⠀⠀⠀⠀⠀⠀⠀⠀⠀⠀⠀⠀⠀⠀⠀⠀⠀⠀⠀⠀⠀⠀⠀⠀⠀⠀⠀⠀⠀⠀⠀⠀⠀⠀⠀⠀⠀⠀⠀⠀⠀⠀⠀⠀⠀⠀⠀⠀\n",
      "20.7675921 | ⠀⠀⠀⠀⠀⠀⠀⠀⠀⠀⠀⠀⠀⠀⠀⠀⠀⠀⠀⠀⠀⠀⠀⠀⠀⠀⠀⠀⠀⠀⠀⠀⠀⠀⠀⠀⠀⠀⠀⠀⠀⠀⠀⠀⠀⠀⠀⠀⠀⠀⠀⠀⠀⠀⠀⠀⠀⠀⠀⠀⠀⠀⠀⠀⠀⠀⠀\u001b[38;5;196m⢀\u001b[0m\u001b[38;5;196m⣀\u001b[0m\u001b[38;5;196m⡠\u001b[0m\n",
      "15.8155666 | ⠀⠀⠀⠀⠀⠀⠀⠀⠀⠀⠀⠀⠀⠀⠀⠀⠀⠀⠀⠀⠀⠀⠀⠀⠀⠀⠀⠀⠀⠀⠀⠀⠀⠀⠀⠀⠀⠀⠀⠀⠀⠀⠀⠀⠀⠀⠀⠀⠀⠀⠀⠀⠀⠀⠀⠀⠀\u001b[38;5;196m⢀\u001b[0m\u001b[38;5;196m⣀\u001b[0m\u001b[38;5;196m⡠\u001b[0m\u001b[38;5;196m⠤\u001b[0m\u001b[38;5;196m⠤\u001b[0m\u001b[38;5;196m⠤\u001b[0m\u001b[38;5;196m⠒\u001b[0m\u001b[38;5;196m⠒\u001b[0m\u001b[38;5;196m⠒\u001b[0m\u001b[38;5;196m⠉\u001b[0m\u001b[38;5;196m⠁\u001b[0m\u001b[38;5;25m⣀\u001b[0m\u001b[38;5;25m⣀\u001b[0m\n",
      "10.8635411 | ⠀⠀⠀⠀⠀⠀⠀⠀⠀⠀⠀⠀⠀⠀⠀⠀⠀⠀⠀⠀⠀⠀⠀⠀⠀⠀⠀⠀⠀⠀⠀⠀⠀⠀⠀⠀⠀⠀⠀⠀⠀⠀⠀⠀⠀⠀⠀⠀⠀\u001b[38;5;196m⢀\u001b[0m\u001b[38;5;196m⣀\u001b[0m\u001b[38;5;196m⡠\u001b[0m\u001b[38;5;196m⠤\u001b[0m\u001b[38;5;196m⠤\u001b[0m\u001b[38;5;196m⠒\u001b[0m\u001b[38;5;196m⠒\u001b[0m\u001b[38;5;196m⢉\u001b[0m\u001b[38;5;196m⣁\u001b[0m\u001b[38;5;25m⣀\u001b[0m\u001b[38;5;25m⠤\u001b[0m\u001b[38;5;25m⠤\u001b[0m\u001b[38;5;25m⠔\u001b[0m\u001b[38;5;25m⠒\u001b[0m\u001b[38;5;25m⠒\u001b[0m\u001b[38;5;25m⠉\u001b[0m\u001b[38;5;25m⠉\u001b[0m\u001b[38;5;25m⠉\u001b[0m\u001b[38;5;25m⠉\u001b[0m⠀⠀\n",
      "5.91151563 | ⠀⠀⠀⠀⠀⠀⠀⠀⠀⠀⠀⠀⠀⠀⠀⠀⠀⠀⠀⠀⠀⠀⠀⠀⠀⠀⠀⠀⠀⠀⠀⠀⠀⠀⠀⠀⠀⠀\u001b[38;5;196m⣀\u001b[0m\u001b[38;5;196m⣀\u001b[0m\u001b[38;5;196m⣀\u001b[0m\u001b[38;5;196m⣀\u001b[0m\u001b[38;5;196m⣀\u001b[0m\u001b[38;5;196m⣤\u001b[0m\u001b[38;5;196m⣤\u001b[0m\u001b[38;5;196m⣤\u001b[0m\u001b[38;5;196m⣒\u001b[0m\u001b[38;5;196m⣊\u001b[0m\u001b[38;5;196m⠭\u001b[0m\u001b[38;5;196m⠥\u001b[0m\u001b[38;5;25m⠤\u001b[0m\u001b[38;5;25m⠔\u001b[0m\u001b[38;5;25m⠒\u001b[0m\u001b[38;5;25m⠒\u001b[0m\u001b[38;5;25m⠉\u001b[0m\u001b[38;5;25m⠉\u001b[0m\u001b[38;5;25m⠁\u001b[0m⠀⠀⠀⠀⠀⠀⠀⠀⠀⠀⠀⠀⠀\n",
      "0.95949013 | \u001b[38;5;196m⣀\u001b[0m\u001b[38;5;196m⣀\u001b[0m\u001b[38;5;196m⣀\u001b[0m\u001b[38;5;196m⣀\u001b[0m\u001b[38;5;196m⣀\u001b[0m\u001b[38;5;196m⣀\u001b[0m\u001b[38;5;196m⣀\u001b[0m\u001b[38;5;196m⣀\u001b[0m\u001b[38;5;196m⣤\u001b[0m\u001b[38;5;196m⣤\u001b[0m\u001b[38;5;196m⣤\u001b[0m\u001b[38;5;196m⣤\u001b[0m\u001b[38;5;196m⣤\u001b[0m\u001b[38;5;196m⠤\u001b[0m\u001b[38;5;196m⠤\u001b[0m\u001b[38;5;196m⠤\u001b[0m\u001b[38;5;196m⠤\u001b[0m\u001b[38;5;196m⠤\u001b[0m\u001b[38;5;196m⠤\u001b[0m\u001b[38;5;196m⠤\u001b[0m\u001b[38;5;196m⠤\u001b[0m\u001b[38;5;196m⠤\u001b[0m\u001b[38;5;196m⠤\u001b[0m\u001b[38;5;196m⠤\u001b[0m\u001b[38;5;196m⠤\u001b[0m\u001b[38;5;196m⠤\u001b[0m\u001b[38;5;196m⠤\u001b[0m\u001b[38;5;196m⠤\u001b[0m\u001b[38;5;196m⠶\u001b[0m\u001b[38;5;196m⠶\u001b[0m\u001b[38;5;196m⠶\u001b[0m\u001b[38;5;196m⠶\u001b[0m\u001b[38;5;196m⠶\u001b[0m\u001b[38;5;196m⠛\u001b[0m\u001b[38;5;196m⠛\u001b[0m\u001b[38;5;196m⠛\u001b[0m\u001b[38;5;196m⠛\u001b[0m\u001b[38;5;196m⠛\u001b[0m\u001b[38;5;25m⠉\u001b[0m\u001b[38;5;25m⠉\u001b[0m\u001b[38;5;25m⠉\u001b[0m\u001b[38;5;25m⠉\u001b[0m\u001b[38;5;25m⠉\u001b[0m⠀⠀⠀⠀⠀⠀⠀⠀⠀⠀⠀⠀⠀⠀⠀⠀⠀⠀⠀⠀⠀⠀⠀⠀⠀⠀⠀\n",
      "-----------|-|---------|---------|---------|---------|---------|---------|---------|-> (X)\n",
      "           | 1         3         5         7         9         11        13        15       \n",
      "\n",
      "Legend:\n",
      "-------\n",
      "\u001b[38;5;25m⠤⠤ Training Accuracy\u001b[0m\n",
      "\u001b[38;5;196m⠤⠤ Testing Accuracy\u001b[0m\n",
      "================================================================================\n",
      "\n",
      "✓ Training curves saved: ./checkpoint_1/training_curves.png\n",
      "✓ Saved config: ./checkpoint_1/config.json\n",
      "\n",
      "======================================================================\n",
      "TRAINING COMPLETE\n",
      "======================================================================\n",
      "Best Test Accuracy: 21.66%\n",
      "Checkpoint saved to: ./checkpoint_1\n",
      "======================================================================\n",
      "\n"
     ]
    }
   ],
   "source": [
    "# Build the training command with modular codebase\n",
    "# Using WideResNet-28-10 (change to 'resnet50' if desired)\n",
    "MODEL = \"resnet50\"  # or \"resnet50\"\n",
    "\n",
    "cmd = f\"python train.py --epochs 50 --batch-size 256 --model {MODEL} --scheduler onecycle --lr-finder\"\n",
    "\n",
    "# Add HuggingFace parameters if available\n",
    "if HF_TOKEN and HF_REPO_ID:\n",
    "    cmd += f\" --hf-token {HF_TOKEN} --hf-repo {HF_REPO_ID}\"\n",
    "    print(f\"✓ HuggingFace upload enabled: {HF_REPO_ID}\")\n",
    "else:\n",
    "    print(\"ℹ️ Training without HuggingFace upload\")\n",
    "\n",
    "print(f\"\\nRunning command: {cmd.replace(HF_TOKEN or '', '***TOKEN***')}\\n\")\n",
    "print(\"=\"*70)\n",
    "\n",
    "# Run training\n",
    "!{cmd}"
   ]
  },
  {
   "cell_type": "markdown",
   "metadata": {
    "id": "mxizp28cJaVx"
   },
   "source": [
    "## Training Complete - View Results"
   ]
  },
  {
   "cell_type": "code",
   "execution_count": 12,
   "metadata": {
    "id": "PKeYqCYyJaVx",
    "outputId": "a7fe5d44-7016-4dbf-d3b7-2d13e6d6403b",
    "colab": {
     "base_uri": "https://localhost:8080/"
    }
   },
   "outputs": [
    {
     "output_type": "stream",
     "name": "stdout",
     "text": [
      "\n",
      "======================================================================\n",
      "LATEST CHECKPOINT: checkpoint_1\n",
      "======================================================================\n",
      "\n",
      "📊 TRAINING RESULTS\n",
      "======================================================================\n",
      "Best Test Accuracy: 21.66%\n",
      "Best Epoch: 15\n",
      "Total Epochs Trained: 15\n",
      "\n",
      "Final Metrics:\n",
      "  - Train Accuracy: 16.43%\n",
      "  - Test Accuracy: 21.66%\n",
      "  - Train Loss: 3.7895\n",
      "  - Test Loss: 3.2867\n",
      "======================================================================\n",
      "\n",
      "📁 Saved Files in checkpoint_1:\n",
      "  - checkpoint_epoch10.pth (181.21 MB)\n",
      "  - config.json (0.00 MB)\n",
      "  - lr_finder_plot.png (0.08 MB)\n",
      "  - metrics.json (0.00 MB)\n",
      "  - training_curves.png (0.39 MB)\n",
      "\n",
      "======================================================================\n"
     ]
    }
   ],
   "source": [
    "import glob\n",
    "import json\n",
    "import os\n",
    "\n",
    "# Find the latest checkpoint directory\n",
    "checkpoint_dirs = sorted(glob.glob('checkpoint_*'), reverse=True)\n",
    "\n",
    "if checkpoint_dirs:\n",
    "    latest_checkpoint = checkpoint_dirs[0]\n",
    "    print(f\"\\n{'='*70}\")\n",
    "    print(f\"LATEST CHECKPOINT: {latest_checkpoint}\")\n",
    "    print(f\"{'='*70}\\n\")\n",
    "\n",
    "    # Load and display metrics\n",
    "    metrics_file = os.path.join(latest_checkpoint, 'metrics.json')\n",
    "    if os.path.exists(metrics_file):\n",
    "        with open(metrics_file, 'r') as f:\n",
    "            metrics = json.load(f)\n",
    "\n",
    "        print(f\"📊 TRAINING RESULTS\")\n",
    "        print(f\"{'='*70}\")\n",
    "        print(f\"Best Test Accuracy: {metrics['best_test_accuracy']:.2f}%\")\n",
    "        print(f\"Best Epoch: {metrics['best_epoch']}\")\n",
    "        print(f\"Total Epochs Trained: {len(metrics['epochs'])}\")\n",
    "        print(f\"\\nFinal Metrics:\")\n",
    "        print(f\"  - Train Accuracy: {metrics['train_accuracies'][-1]:.2f}%\")\n",
    "        print(f\"  - Test Accuracy: {metrics['test_accuracies'][-1]:.2f}%\")\n",
    "        print(f\"  - Train Loss: {metrics['train_losses'][-1]:.4f}\")\n",
    "        print(f\"  - Test Loss: {metrics['test_losses'][-1]:.4f}\")\n",
    "        print(f\"{'='*70}\")\n",
    "\n",
    "    # List saved files\n",
    "    print(f\"\\n📁 Saved Files in {latest_checkpoint}:\")\n",
    "    for file in sorted(os.listdir(latest_checkpoint)):\n",
    "        file_path = os.path.join(latest_checkpoint, file)\n",
    "        if os.path.isfile(file_path):\n",
    "            file_size = os.path.getsize(file_path) / (1024 * 1024)  # MB\n",
    "            print(f\"  - {file} ({file_size:.2f} MB)\")\n",
    "\n",
    "    print(f\"\\n{'='*70}\")\n",
    "else:\n",
    "    print(\"⚠ No checkpoint directories found. Training may not have completed successfully.\")"
   ]
  },
  {
   "cell_type": "markdown",
   "metadata": {
    "id": "DDyI_JauJaVx"
   },
   "source": [
    "## Visualize Training Curves"
   ]
  },
  {
   "cell_type": "code",
   "execution_count": null,
   "metadata": {
    "id": "1BQdhvR3JaVx",
    "outputId": "bec4d680-8bbf-443a-d06d-9da2e1fabcd8",
    "colab": {
     "base_uri": "https://localhost:8080/",
     "height": 1000
    }
   },
   "outputs": [],
   "source": "import matplotlib.pyplot as plt\nimport json\n\nif checkpoint_dirs:\n    latest_checkpoint = checkpoint_dirs[0]\n    metrics_file = os.path.join(latest_checkpoint, 'metrics.json')\n\n    if os.path.exists(metrics_file):\n        with open(metrics_file, 'r') as f:\n            metrics = json.load(f)\n\n        epochs = metrics['epochs']\n\n        # Create subplots\n        fig, axes = plt.subplots(2, 2, figsize=(15, 10))\n\n        # Plot 1: Loss\n        axes[0, 0].plot(epochs, metrics['train_losses'], label='Train Loss', color='blue')\n        axes[0, 0].plot(epochs, metrics['test_losses'], label='Test Loss', color='red')\n        axes[0, 0].set_xlabel('Epoch')\n        axes[0, 0].set_ylabel('Loss')\n        axes[0, 0].set_title('Training and Test Loss')\n        axes[0, 0].legend()\n        axes[0, 0].grid(True, alpha=0.3)\n\n        # Plot 2: Accuracy\n        axes[0, 1].plot(epochs, metrics['train_accuracies'], label='Train Accuracy', color='blue')\n        axes[0, 1].plot(epochs, metrics['test_accuracies'], label='Test Accuracy', color='red')\n        axes[0, 1].set_xlabel('Epoch')\n        axes[0, 1].set_ylabel('Accuracy (%)')\n        axes[0, 1].set_title('Training and Test Accuracy')\n        axes[0, 1].legend()\n        axes[0, 1].grid(True, alpha=0.3)\n\n        # Plot 3: Learning Rate\n        axes[1, 0].plot(epochs, metrics['learning_rates'], color='green')\n        axes[1, 0].set_xlabel('Epoch')\n        axes[1, 0].set_ylabel('Learning Rate')\n        axes[1, 0].set_title('Learning Rate Schedule')\n        axes[1, 0].grid(True, alpha=0.3)\n\n        # Plot 4: Accuracy Gap\n        accuracy_gap = [train - test for train, test in zip(metrics['train_accuracies'], metrics['test_accuracies'])]\n        axes[1, 1].plot(epochs, accuracy_gap, color='orange')\n        axes[1, 1].set_xlabel('Epoch')\n        axes[1, 1].set_ylabel('Gap (%)')\n        axes[1, 1].set_title('Train-Test Accuracy Gap (Overfitting Indicator)')\n        axes[1, 1].grid(True, alpha=0.3)\n\n        plt.tight_layout()\n        plt.show()\n\n        # Print summary statistics\n        print(f\"\\n📊 TRAINING SUMMARY\")\n        print(f\"{'='*70}\")\n        print(f\"Best Test Accuracy: {max(metrics['test_accuracies']):.2f}% (Epoch {metrics['test_accuracies'].index(max(metrics['test_accuracies'])) + 1})\")\n        print(f\"Final Test Accuracy: {metrics['test_accuracies'][-1]:.2f}%\")\n        print(f\"Final Train-Test Gap: {accuracy_gap[-1]:.2f}%\")\n        print(f\"Min Test Loss: {min(metrics['test_losses']):.4f}\")\n        print(f\"Max Learning Rate: {max(metrics['learning_rates']):.6f}\")\n        print(f\"Min Learning Rate: {min(metrics['learning_rates']):.6f}\")\n        print(f\"{'='*70}\")\n    else:\n        print(\"⚠ Metrics file not found.\")"
  },
  {
   "cell_type": "markdown",
   "metadata": {
    "id": "fXwqwl1-JaVx"
   },
   "source": [
    "## Plot Training Metrics (Interactive)"
   ]
  },
  {
   "cell_type": "code",
   "execution_count": 14,
   "metadata": {
    "id": "p-KGTBYLJaVx",
    "outputId": "ab9b7fb9-4d5e-4c72-9a8c-6f28f5f0217f",
    "colab": {
     "base_uri": "https://localhost:8080/",
     "height": 1000
    }
   },
   "outputs": [
    {
     "output_type": "display_data",
     "data": {
      "text/plain": [
       "<Figure size 1500x1000 with 4 Axes>"
      ],
      "image/png": "[encoded data removed]"
     },
     "metadata": {}
    },
    {
     "output_type": "stream",
     "name": "stdout",
     "text": [
      "\n",
      "📊 TRAINING SUMMARY\n",
      "======================================================================\n",
      "Best Test Accuracy: 21.66% (Epoch 15)\n",
      "Final Test Accuracy: 21.66%\n",
      "Final Train-Test Gap: -5.23%\n",
      "Min Test Loss: 3.2867\n",
      "Max Learning Rate: 0.026827\n",
      "Min Learning Rate: 0.000294\n",
      "======================================================================\n"
     ]
    }
   ],
   "source": [
    "import matplotlib.pyplot as plt\n",
    "import json\n",
    "\n",
    "if checkpoint_dirs:\n",
    "    latest_checkpoint = checkpoint_dirs[0]\n",
    "    metrics_file = os.path.join(latest_checkpoint, 'metrics.json')\n",
    "\n",
    "    if os.path.exists(metrics_file):\n",
    "        with open(metrics_file, 'r') as f:\n",
    "            metrics = json.load(f)\n",
    "\n",
    "        epochs = metrics['epochs']\n",
    "\n",
    "        # Create subplots\n",
    "        fig, axes = plt.subplots(2, 2, figsize=(15, 10))\n",
    "\n",
    "        # Plot 1: Loss\n",
    "        axes[0, 0].plot(epochs, metrics['train_losses'], label='Train Loss', color='blue')\n",
    "        axes[0, 0].plot(epochs, metrics['test_losses'], label='Test Loss', color='red')\n",
    "        axes[0, 0].set_xlabel('Epoch')\n",
    "        axes[0, 0].set_ylabel('Loss')\n",
    "        axes[0, 0].set_title('Training and Test Loss')\n",
    "        axes[0, 0].legend()\n",
    "        axes[0, 0].grid(True, alpha=0.3)\n",
    "\n",
    "        # Plot 2: Accuracy\n",
    "        axes[0, 1].plot(epochs, metrics['train_accuracies'], label='Train Accuracy', color='blue')\n",
    "        axes[0, 1].plot(epochs, metrics['test_accuracies'], label='Test Accuracy', color='red')\n",
    "        axes[0, 1].axhline(y=74, color='green', linestyle='--', label='Target (74%)', alpha=0.5)\n",
    "        axes[0, 1].set_xlabel('Epoch')\n",
    "        axes[0, 1].set_ylabel('Accuracy (%)')\n",
    "        axes[0, 1].set_title('Training and Test Accuracy')\n",
    "        axes[0, 1].legend()\n",
    "        axes[0, 1].grid(True, alpha=0.3)\n",
    "\n",
    "        # Plot 3: Learning Rate\n",
    "        axes[1, 0].plot(epochs, metrics['learning_rates'], color='green')\n",
    "        axes[1, 0].set_xlabel('Epoch')\n",
    "        axes[1, 0].set_ylabel('Learning Rate')\n",
    "        axes[1, 0].set_title('Learning Rate Schedule')\n",
    "        axes[1, 0].grid(True, alpha=0.3)\n",
    "\n",
    "        # Plot 4: Accuracy Gap\n",
    "        accuracy_gap = [train - test for train, test in zip(metrics['train_accuracies'], metrics['test_accuracies'])]\n",
    "        axes[1, 1].plot(epochs, accuracy_gap, color='orange')\n",
    "        axes[1, 1].set_xlabel('Epoch')\n",
    "        axes[1, 1].set_ylabel('Gap (%)')\n",
    "        axes[1, 1].set_title('Train-Test Accuracy Gap (Overfitting Indicator)')\n",
    "        axes[1, 1].grid(True, alpha=0.3)\n",
    "\n",
    "        plt.tight_layout()\n",
    "        plt.show()\n",
    "\n",
    "        # Print summary statistics\n",
    "        print(f\"\\n📊 TRAINING SUMMARY\")\n",
    "        print(f\"{'='*70}\")\n",
    "        print(f\"Best Test Accuracy: {max(metrics['test_accuracies']):.2f}% (Epoch {metrics['test_accuracies'].index(max(metrics['test_accuracies'])) + 1})\")\n",
    "        print(f\"Final Test Accuracy: {metrics['test_accuracies'][-1]:.2f}%\")\n",
    "        print(f\"Final Train-Test Gap: {accuracy_gap[-1]:.2f}%\")\n",
    "        print(f\"Min Test Loss: {min(metrics['test_losses']):.4f}\")\n",
    "        print(f\"Max Learning Rate: {max(metrics['learning_rates']):.6f}\")\n",
    "        print(f\"Min Learning Rate: {min(metrics['learning_rates']):.6f}\")\n",
    "        print(f\"{'='*70}\")\n",
    "    else:\n",
    "        print(\"⚠ Metrics file not found.\")"
   ]
  },
  {
   "cell_type": "markdown",
   "metadata": {
    "id": "mA7L2bFoJaVy"
   },
   "source": [
    "## Load Best Model Checkpoint"
   ]
  },
  {
   "cell_type": "code",
   "execution_count": 15,
   "metadata": {
    "id": "OpDYS5_uJaVy",
    "outputId": "2ad0da63-2f46-4c08-e40f-90a6c2f4131a",
    "colab": {
     "base_uri": "https://localhost:8080/"
    }
   },
   "outputs": [
    {
     "output_type": "stream",
     "name": "stdout",
     "text": [
      "⚠ Best model checkpoint not found.\n"
     ]
    }
   ],
   "source": [
    "import torch\n",
    "\n",
    "if checkpoint_dirs:\n",
    "    latest_checkpoint = checkpoint_dirs[0]\n",
    "    best_model_path = os.path.join(latest_checkpoint, 'best_model.pth')\n",
    "\n",
    "    if os.path.exists(best_model_path):\n",
    "        # Load the checkpoint with weights_only=False for PyTorch 2.6+\n",
    "        checkpoint = torch.load(best_model_path, map_location='cpu', weights_only=False)\n",
    "\n",
    "        print(f\"\\n{'='*70}\")\n",
    "        print(\"BEST MODEL CHECKPOINT INFORMATION\")\n",
    "        print(f\"{'='*70}\")\n",
    "        print(f\"Epoch: {checkpoint['epoch']}\")\n",
    "        print(f\"Train Accuracy: {checkpoint['train_accuracy']:.2f}%\")\n",
    "        print(f\"Test Accuracy: {checkpoint['test_accuracy']:.2f}%\")\n",
    "        print(f\"Train Loss: {checkpoint['train_loss']:.4f}\")\n",
    "        print(f\"Test Loss: {checkpoint['test_loss']:.4f}\")\n",
    "        print(f\"Timestamp: {checkpoint['timestamp']}\")\n",
    "\n",
    "        print(f\"\\nModel Configuration:\")\n",
    "        for key, value in checkpoint['config'].items():\n",
    "            print(f\"  - {key}: {value}\")\n",
    "\n",
    "        print(f\"{'='*70}\\n\")\n",
    "\n",
    "        print(\"✓ Checkpoint loaded successfully\")\n",
    "        print(f\"  Model state dict keys: {len(checkpoint['model_state_dict'])} layers\")\n",
    "        print(f\"  Optimizer state dict available: {'optimizer_state_dict' in checkpoint}\")\n",
    "\n",
    "        # Optional: Load model for inference using the new modular structure\n",
    "        # Uncomment to actually load the model\n",
    "        # from models import get_model\n",
    "        # model_name = checkpoint['config'].get('model', 'wideresnet28-10')\n",
    "        # model = get_model(model_name, num_classes=100)\n",
    "        # model.load_state_dict(checkpoint['model_state_dict'])\n",
    "        # model.eval()\n",
    "        # print(\"✓ Model loaded and ready for inference\")\n",
    "    else:\n",
    "        print(\"⚠ Best model checkpoint not found.\")\n",
    "else:\n",
    "    print(\"⚠ No checkpoint directories found.\")"
   ]
  },
  {
   "cell_type": "markdown",
   "metadata": {
    "id": "PlJmx9pTJaVy"
   },
   "source": "## Summary\n\nTraining is complete using the **new modular codebase**! Here's what was saved:\n\n### 📁 Checkpoint Files:\n- `best_model.pth` - The model with the best test accuracy\n- `training_curves.png` - Visualization of training progress\n- `lr_finder_plot.png` - Learning rate range test results\n- `metrics.json` - Complete training history (all epochs)\n- `config.json` - Hyperparameter configuration\n- `README.md` - Model card with detailed documentation\n\n### 🏗️ Modular Structure Benefits:\n- **Data Loaders** (`data_loaders/`) - Easy to add CIFAR-10, CIFAR-100, or other datasets\n- **Models** (`models/`) - Clean separation of architectures\n- **Training** (`training/`) - Reusable optimizer, scheduler, LR finder\n- **Utils** (`utils/`) - Checkpointing, metrics, HuggingFace upload\n\n### 📊 ImageNette Training:\n- **Dataset**: ImageNette2-160 (10-class ImageNet subset)\n- **Classes**: tench, English springer, cassette player, chain saw, church, French horn, garbage truck, gas pump, golf ball, parachute\n- **Image Size**: 160x160 → 224x224 (resized during training)\n- **Training samples**: ~9,469\n- **Validation samples**: ~3,925\n- **Expected Accuracy**: 80-90% for well-trained models\n\n### 🔄 Next Steps:\n1. Review the training curves to understand model performance\n2. Check the LR Finder plot to see the learning rate selection\n3. Download the checkpoint files using the cell above\n4. (Optional) Upload to HuggingFace Hub if you added credentials\n\n### 🎯 Model Usage (New Modular Way):\nTo use the trained model with the new modular structure:\n\n```python\nimport torch\nfrom models import get_model\n\n# Load checkpoint (PyTorch 2.6+ requires weights_only=False)\ncheckpoint = torch.load('checkpoint_1/best_model.pth',\n                       map_location='cpu', weights_only=False)\n\n# Get model using modular factory\nmodel = get_model('resnet50-pytorch', num_classes=10)  # 10 classes for ImageNette\nmodel.load_state_dict(checkpoint['model_state_dict'])\nmodel.eval()\n```\n\n### 🆕 Available Models:\n- `resnet50-pytorch` - ResNet50 from PyTorch (25.6M parameters, optimized for ImageNet)\n- `resnet50` - Custom ResNet50 implementation\n- `wideresnet28-10` - WideResNet-28-10 (36.5M parameters, good for CIFAR)\n- More models can be easily added to `models/` directory!\n\n### 🎓 ImageNet Training:\nThis notebook uses ImageNette, a smaller subset of ImageNet that's perfect for:\n- **Fast experimentation** - Train in 30-45 minutes instead of days\n- **Learning ImageNet techniques** - Same architecture, preprocessing, and augmentation\n- **Resource-efficient** - Works on free Colab GPU\n- **Scaling up** - Easy to switch to full ImageNet-1K by changing dataset path and num_classes\n\n---\n\n**Thank you for using this training notebook with the new modular structure!**"
  },
  {
   "cell_type": "code",
   "execution_count": 16,
   "metadata": {
    "id": "d_FA7HblJaVy",
    "outputId": "b912bf63-6ea1-45a1-d600-b3fd851fcb43",
    "colab": {
     "base_uri": "https://localhost:8080/",
     "height": 106
    }
   },
   "outputs": [
    {
     "output_type": "stream",
     "name": "stdout",
     "text": [
      "✓ Created checkpoint_1.zip\n",
      "  Size: 168.28 MB\n",
      "\n",
      "Downloading...\n"
     ]
    },
    {
     "output_type": "display_data",
     "data": {
      "text/plain": [
       "<IPython.core.display.Javascript object>"
      ],
      "application/javascript": [
       "\n",
       "    async function download(id, filename, size) {\n",
       "      if (!google.colab.kernel.accessAllowed) {\n",
       "        return;\n",
       "      }\n",
       "      const div = document.createElement('div');\n",
       "      const label = document.createElement('label');\n",
       "      label.textContent = `Downloading \"${filename}\": `;\n",
       "      div.appendChild(label);\n",
       "      const progress = document.createElement('progress');\n",
       "      progress.max = size;\n",
       "      div.appendChild(progress);\n",
       "      document.body.appendChild(div);\n",
       "\n",
       "      const buffers = [];\n",
       "      let downloaded = 0;\n",
       "\n",
       "      const channel = await google.colab.kernel.comms.open(id);\n",
       "      // Send a message to notify the kernel that we're ready.\n",
       "      channel.send({})\n",
       "\n",
       "      for await (const message of channel.messages) {\n",
       "        // Send a message to notify the kernel that we're ready.\n",
       "        channel.send({})\n",
       "        if (message.buffers) {\n",
       "          for (const buffer of message.buffers) {\n",
       "            buffers.push(buffer);\n",
       "            downloaded += buffer.byteLength;\n",
       "            progress.value = downloaded;\n",
       "          }\n",
       "        }\n",
       "      }\n",
       "      const blob = new Blob(buffers, {type: 'application/binary'});\n",
       "      const a = document.createElement('a');\n",
       "      a.href = window.URL.createObjectURL(blob);\n",
       "      a.download = filename;\n",
       "      div.appendChild(a);\n",
       "      a.click();\n",
       "      div.remove();\n",
       "    }\n",
       "  "
      ]
     },
     "metadata": {}
    },
    {
     "output_type": "display_data",
     "data": {
      "text/plain": [
       "<IPython.core.display.Javascript object>"
      ],
      "application/javascript": [
       "download(\"download_c9b4d2b9-d3f3-4c88-98dd-18f7e11885b3\", \"checkpoint_1.zip\", 176451360)"
      ]
     },
     "metadata": {}
    },
    {
     "output_type": "stream",
     "name": "stdout",
     "text": [
      "✓ Download complete!\n"
     ]
    }
   ],
   "source": [
    "from google.colab import files\n",
    "import shutil\n",
    "\n",
    "if checkpoint_dirs:\n",
    "    latest_checkpoint = checkpoint_dirs[0]\n",
    "\n",
    "    # Create a zip file of the checkpoint directory\n",
    "    zip_filename = f\"{latest_checkpoint}.zip\"\n",
    "    shutil.make_archive(latest_checkpoint, 'zip', latest_checkpoint)\n",
    "\n",
    "    print(f\"✓ Created {zip_filename}\")\n",
    "    print(f\"  Size: {os.path.getsize(zip_filename) / (1024*1024):.2f} MB\")\n",
    "    print(\"\\nDownloading...\")\n",
    "\n",
    "    # Download the zip file\n",
    "    files.download(zip_filename)\n",
    "\n",
    "    print(\"✓ Download complete!\")\n",
    "else:\n",
    "    print(\"⚠ No checkpoint directories found.\")"
   ]
  },
  {
   "cell_type": "markdown",
   "metadata": {
    "id": "Bdj5zvuTJaVy"
   },
   "source": [
    "## Summary\n",
    "\n",
    "Training is complete using the **new modular codebase**! Here's what was saved:\n",
    "\n",
    "### 📁 Checkpoint Files:\n",
    "- `best_model.pth` - The model with the best test accuracy\n",
    "- `training_curves.png` - Visualization of training progress\n",
    "- `lr_finder_plot.png` - Learning rate range test results\n",
    "- `metrics.json` - Complete training history (all epochs)\n",
    "- `config.json` - Hyperparameter configuration\n",
    "- `README.md` - Model card with detailed documentation\n",
    "\n",
    "### 🏗️ Modular Structure Benefits:\n",
    "- **Datasets** (`datasets/`) - Easy to add CIFAR-10, ImageNet, etc.\n",
    "- **Models** (`models/`) - Clean separation of architectures\n",
    "- **Training** (`training/`) - Reusable optimizer, scheduler, LR finder\n",
    "- **Utils** (`utils/`) - Checkpointing, metrics, HuggingFace upload\n",
    "\n",
    "### 🔄 Next Steps:\n",
    "1. Review the training curves to understand model performance\n",
    "2. Check the LR Finder plot to see the learning rate selection\n",
    "3. Download the checkpoint files using the cell above\n",
    "4. (Optional) Upload to HuggingFace Hub if you added credentials\n",
    "\n",
    "### 🎯 Model Usage (New Modular Way):\n",
    "To use the trained model with the new modular structure:\n",
    "\n",
    "```python\n",
    "import torch\n",
    "from models import get_model\n",
    "\n",
    "# Load checkpoint (PyTorch 2.6+ requires weights_only=False)\n",
    "checkpoint = torch.load('checkpoint_1/best_model.pth',\n",
    "                       map_location='cpu', weights_only=False)\n",
    "\n",
    "# Get model using modular factory\n",
    "model = get_model('wideresnet28-10', num_classes=100)  # or 'resnet50'\n",
    "model.load_state_dict(checkpoint['model_state_dict'])\n",
    "model.eval()\n",
    "```\n",
    "\n",
    "### 🆕 Available Models:\n",
    "- `wideresnet28-10` - WideResNet-28-10 (36.5M parameters)\n",
    "- `resnet50` - ResNet50 (23.5M parameters)\n",
    "- More models can be easily added to `models/` directory!\n",
    "\n",
    "---\n",
    "\n",
    "**Thank you for using this training notebook with the new modular structure!**"
   ]
  }
 ],
 "metadata": {
  "accelerator": "GPU",
  "colab": {
   "gpuType": "T4",
   "provenance": []
  },
  "kernelspec": {
   "display_name": "Python 3",
   "name": "python3"
  },
  "language_info": {
   "codemirror_mode": {
    "name": "ipython",
    "version": 3
   },
   "file_extension": ".py",
   "mimetype": "text/x-python",
   "name": "python",
   "nbconvert_exporter": "python",
   "pygments_lexer": "ipython3",
   "version": "3.10.12"
  }
 },
 "nbformat": 4,
 "nbformat_minor": 0
}